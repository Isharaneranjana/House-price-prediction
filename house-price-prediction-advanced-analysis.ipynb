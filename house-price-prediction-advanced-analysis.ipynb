{
 "cells": [
  {
   "cell_type": "markdown",
   "id": "9a0e90c3",
   "metadata": {
    "execution": {
     "iopub.execute_input": "2021-11-05T08:06:36.190866Z",
     "iopub.status.busy": "2021-11-05T08:06:36.190581Z",
     "iopub.status.idle": "2021-11-05T08:06:36.19701Z",
     "shell.execute_reply": "2021-11-05T08:06:36.195787Z",
     "shell.execute_reply.started": "2021-11-05T08:06:36.190836Z"
    },
    "papermill": {
     "duration": 0.07132,
     "end_time": "2022-02-25T17:35:01.037996",
     "exception": false,
     "start_time": "2022-02-25T17:35:00.966676",
     "status": "completed"
    },
    "tags": []
   },
   "source": [
    "\n",
    "<p style=\"background-color:#A7FC86;color:black;font-size:22px;text-align:center;border-radius:10px 12px;font-weight:bold;border: 3px solid green;\">HOUSE SALES PRICE PREDICTION 🏘 💲 </p>\n",
    "\n",
    "<center><img src=\"https://github.com/Isharaneranjana/kaggle_gif/blob/main/Advanced%20analysis.gif?raw=true\"></center>\n",
    "\n"
   ]
  },
  {
   "cell_type": "markdown",
   "id": "cb0fa065",
   "metadata": {
    "papermill": {
     "duration": 0.067435,
     "end_time": "2022-02-25T17:35:01.174364",
     "exception": false,
     "start_time": "2022-02-25T17:35:01.106929",
     "status": "completed"
    },
    "tags": []
   },
   "source": [
    "## <p style=\"background-color:#A7FC86;color:black;font-size:21px;text-align:center;border-radius:10px 11px;\">🧿Introduction </p>"
   ]
  },
  {
   "cell_type": "markdown",
   "id": "821d6cd1",
   "metadata": {
    "papermill": {
     "duration": 0.069683,
     "end_time": "2022-02-25T17:35:01.375412",
     "exception": false,
     "start_time": "2022-02-25T17:35:01.305729",
     "status": "completed"
    },
    "tags": []
   },
   "source": [
    "<font size=\"4\">House price prediction is a significant financial decision for individuals working in the housing market as well as for potential buyers. House prices can be predicted by the given explanatory variables that cover many aspects of residential houses. The goal of this notebook is to create a regression model that is able to accurately estimate the price of the house given the features. </font>"
   ]
  },
  {
   "cell_type": "markdown",
   "id": "2f820cb0",
   "metadata": {
    "papermill": {
     "duration": 0.069783,
     "end_time": "2022-02-25T17:35:01.514583",
     "exception": false,
     "start_time": "2022-02-25T17:35:01.444800",
     "status": "completed"
    },
    "tags": []
   },
   "source": [
    "<center><img src=\"https://media.giphy.com/media/l3vR4wCyiyjvHT3JS/giphy.gif\"></center>\n"
   ]
  },
  {
   "cell_type": "markdown",
   "id": "9b0c7db5",
   "metadata": {
    "papermill": {
     "duration": 0.06773,
     "end_time": "2022-02-25T17:35:01.651856",
     "exception": false,
     "start_time": "2022-02-25T17:35:01.584126",
     "status": "completed"
    },
    "tags": []
   },
   "source": [
    "## <p style=\"background-color:#A7FC86;color:black;font-size:21px;text-align:center;border-radius:10px 10px;\">🔐Description of the dataset </p>\n",
    "\n",
    "<font size=\"4\">There are 79 explanatory variables describing (almost) every aspect of residential homes in Ames.</font>"
   ]
  },
  {
   "cell_type": "markdown",
   "id": "d7c4f290",
   "metadata": {
    "papermill": {
     "duration": 0.070149,
     "end_time": "2022-02-25T17:35:01.792159",
     "exception": false,
     "start_time": "2022-02-25T17:35:01.722010",
     "status": "completed"
    },
    "tags": []
   },
   "source": [
    "Here's a brief version of the data description file.\n",
    "\n",
    "* SalePrice      : the property's sale price in dollars. This is the target variable that you're trying to predict.\n",
    "* MSSubClass     : The building class\n",
    "* MSZoning       : The general zoning classification\n",
    "* LotFrontage    : Linear feet of street connected to property\n",
    "* LotArea        : Lot size in square feet\n",
    "* Street         : Type of road access\n",
    "* Alley          : Type of alley access\n",
    "* LotShape: General shape of property\n",
    "* LandContour: Flatness of the property\n",
    "* Utilities: Type of utilities available\n",
    "* LotConfig: Lot configuration\n",
    "* LandSlope: Slope of property\n",
    "* Neighborhood: Physical locations within Ames city limits\n",
    "* Condition1: Proximity to main road or railroad\n",
    "* Condition2: Proximity to main road or railroad (if a second is present)\n",
    "* BldgType: Type of dwelling\n",
    "* HouseStyle: Style of dwelling\n",
    "* OverallQual: Overall material and finish quality\n",
    "* OverallCond: Overall condition rating\n",
    "* YearBuilt: Original construction date\n",
    "* YearRemodAdd: Remodel date\n",
    "* RoofStyle: Type of roof\n",
    "* RoofMatl: Roof material\n",
    "* Exterior1st: Exterior covering on house\n",
    "* Exterior2nd: Exterior covering on house (if more than one material)\n",
    "* MasVnrType: Masonry veneer type\n",
    "* MasVnrArea: Masonry veneer area in square feet\n",
    "* ExterQual: Exterior material quality\n",
    "* ExterCond: Present condition of the material on the exterior\n",
    "* Foundation: Type of foundation\n",
    "* BsmtQual: Height of the basement\n",
    "* BsmtCond: General condition of the basement\n",
    "* BsmtExposure: Walkout or garden level basement walls\n",
    "* BsmtFinType1: Quality of basement finished area\n",
    "* BsmtFinSF1: Type 1 finished square feet\n",
    "* BsmtFinType2: Quality of second finished area (if present)\n",
    "* BsmtFinSF2: Type 2 finished square feet\n",
    "* BsmtUnfSF: Unfinished square feet of basement area\n",
    "* TotalBsmtSF: Total square feet of basement area\n",
    "* Heating: Type of heating\n",
    "* HeatingQC: Heating quality and condition\n",
    "* CentralAir: Central air conditioning\n",
    "* Electrical: Electrical system\n",
    "* 1stFlrSF: First Floor square feet\n",
    "* 2ndFlrSF: Second floor square feet\n",
    "* LowQualFinSF: Low quality finished square feet (all floors)\n",
    "* GrLivArea: Above grade (ground) living area square feet\n",
    "* BsmtFullBath: Basement full bathrooms\n",
    "* BsmtHalfBath: Basement half bathrooms\n",
    "* FullBath: Full bathrooms above grade\n",
    "* HalfBath: Half baths above grade\n",
    "* Bedroom: Number of bedrooms above basement level\n",
    "* Kitchen: Number of kitchens\n",
    "* KitchenQual: Kitchen quality\n",
    "* TotRmsAbvGrd: Total rooms above grade (does not include bathrooms)\n",
    "* Functional: Home functionality rating\n",
    "* Fireplaces: Number of fireplaces\n",
    "* FireplaceQu: Fireplace quality\n",
    "* GarageType: Garage location\n",
    "* GarageYrBlt: Year garage was built\n",
    "* GarageFinish: Interior finish of the garage\n",
    "* GarageCars: Size of garage in car capacity\n",
    "* GarageArea: Size of garage in square feet\n",
    "* GarageQual: Garage quality\n",
    "* GarageCond: Garage condition\n",
    "* PavedDrive: Paved driveway\n",
    "* WoodDeckSF: Wood deck area in square feet\n",
    "* OpenPorchSF: Open porch area in square feet\n",
    "* EnclosedPorch: Enclosed porch area in square feet\n",
    "* 3SsnPorch: Three season porch area in square feet\n",
    "* ScreenPorch: Screen porch area in square feet\n",
    "* PoolArea: Pool area in square feet\n",
    "* PoolQC: Pool quality\n",
    "* Fence: Fence quality\n",
    "* MiscFeature: Miscellaneous feature not covered in other categories\n",
    "* MiscVal: Value of miscellaneous feature\n",
    "* MoSold: Month Sold\n",
    "* YrSold: Year Sold\n",
    "* SaleType: Type of sale\n",
    "* SaleCondition: Condition of sale "
   ]
  },
  {
   "cell_type": "code",
   "execution_count": 1,
   "id": "d6e5ce7a",
   "metadata": {
    "_cell_guid": "b1076dfc-b9ad-4769-8c92-a6c4dae69d19",
    "_uuid": "8f2839f25d086af736a60e9eeb907d3b93b6e0e5",
    "execution": {
     "iopub.execute_input": "2022-02-25T17:35:01.948788Z",
     "iopub.status.busy": "2022-02-25T17:35:01.947985Z",
     "iopub.status.idle": "2022-02-25T17:35:02.979966Z",
     "shell.execute_reply": "2022-02-25T17:35:02.979208Z",
     "shell.execute_reply.started": "2022-02-06T04:08:01.836208Z"
    },
    "papermill": {
     "duration": 1.117301,
     "end_time": "2022-02-25T17:35:02.980148",
     "exception": false,
     "start_time": "2022-02-25T17:35:01.862847",
     "status": "completed"
    },
    "tags": []
   },
   "outputs": [],
   "source": [
    "#importing libraries\n",
    "import numpy as np\n",
    "import pandas as pd\n",
    "import matplotlib.pyplot as plt\n",
    "import seaborn as sns"
   ]
  },
  {
   "cell_type": "code",
   "execution_count": 2,
   "id": "4a41d72e",
   "metadata": {
    "execution": {
     "iopub.execute_input": "2022-02-25T17:35:03.129827Z",
     "iopub.status.busy": "2022-02-25T17:35:03.129083Z",
     "iopub.status.idle": "2022-02-25T17:35:03.138980Z",
     "shell.execute_reply": "2022-02-25T17:35:03.139522Z",
     "shell.execute_reply.started": "2022-02-06T04:08:02.812859Z"
    },
    "papermill": {
     "duration": 0.08672,
     "end_time": "2022-02-25T17:35:03.139745",
     "exception": false,
     "start_time": "2022-02-25T17:35:03.053025",
     "status": "completed"
    },
    "tags": []
   },
   "outputs": [
    {
     "name": "stdout",
     "output_type": "stream",
     "text": [
      "/kaggle/input/house-prices-advanced-regression-techniques/sample_submission.csv\n",
      "/kaggle/input/house-prices-advanced-regression-techniques/data_description.txt\n",
      "/kaggle/input/house-prices-advanced-regression-techniques/train.csv\n",
      "/kaggle/input/house-prices-advanced-regression-techniques/test.csv\n"
     ]
    }
   ],
   "source": [
    "import os\n",
    "for dirname, _, filenames in os.walk('/kaggle/input'):\n",
    "    for filename in filenames:\n",
    "        print(os.path.join(dirname, filename))\n",
    "import warnings\n",
    "warnings.filterwarnings(\"ignore\")"
   ]
  },
  {
   "cell_type": "code",
   "execution_count": 3,
   "id": "e52ccf1a",
   "metadata": {
    "execution": {
     "iopub.execute_input": "2022-02-25T17:35:03.286042Z",
     "iopub.status.busy": "2022-02-25T17:35:03.285302Z",
     "iopub.status.idle": "2022-02-25T17:35:03.397996Z",
     "shell.execute_reply": "2022-02-25T17:35:03.398550Z",
     "shell.execute_reply.started": "2022-02-06T04:08:02.827102Z"
    },
    "papermill": {
     "duration": 0.187157,
     "end_time": "2022-02-25T17:35:03.398757",
     "exception": false,
     "start_time": "2022-02-25T17:35:03.211600",
     "status": "completed"
    },
    "tags": []
   },
   "outputs": [],
   "source": [
    "# lodaing the training set\n",
    "train= pd.read_csv('/kaggle/input/house-prices-advanced-regression-techniques/train.csv')\n",
    "test= pd.read_csv('/kaggle/input/house-prices-advanced-regression-techniques/test.csv')"
   ]
  },
  {
   "cell_type": "code",
   "execution_count": 4,
   "id": "87875bfb",
   "metadata": {
    "execution": {
     "iopub.execute_input": "2022-02-25T17:35:03.545961Z",
     "iopub.status.busy": "2022-02-25T17:35:03.545285Z",
     "iopub.status.idle": "2022-02-25T17:35:03.575406Z",
     "shell.execute_reply": "2022-02-25T17:35:03.575928Z",
     "shell.execute_reply.started": "2022-02-06T04:08:02.912389Z"
    },
    "papermill": {
     "duration": 0.107903,
     "end_time": "2022-02-25T17:35:03.576113",
     "exception": false,
     "start_time": "2022-02-25T17:35:03.468210",
     "status": "completed"
    },
    "tags": []
   },
   "outputs": [
    {
     "data": {
      "text/html": [
       "<div>\n",
       "<style scoped>\n",
       "    .dataframe tbody tr th:only-of-type {\n",
       "        vertical-align: middle;\n",
       "    }\n",
       "\n",
       "    .dataframe tbody tr th {\n",
       "        vertical-align: top;\n",
       "    }\n",
       "\n",
       "    .dataframe thead th {\n",
       "        text-align: right;\n",
       "    }\n",
       "</style>\n",
       "<table border=\"1\" class=\"dataframe\">\n",
       "  <thead>\n",
       "    <tr style=\"text-align: right;\">\n",
       "      <th></th>\n",
       "      <th>Id</th>\n",
       "      <th>MSSubClass</th>\n",
       "      <th>MSZoning</th>\n",
       "      <th>LotFrontage</th>\n",
       "      <th>LotArea</th>\n",
       "      <th>Street</th>\n",
       "      <th>Alley</th>\n",
       "      <th>LotShape</th>\n",
       "      <th>LandContour</th>\n",
       "      <th>Utilities</th>\n",
       "      <th>...</th>\n",
       "      <th>PoolArea</th>\n",
       "      <th>PoolQC</th>\n",
       "      <th>Fence</th>\n",
       "      <th>MiscFeature</th>\n",
       "      <th>MiscVal</th>\n",
       "      <th>MoSold</th>\n",
       "      <th>YrSold</th>\n",
       "      <th>SaleType</th>\n",
       "      <th>SaleCondition</th>\n",
       "      <th>SalePrice</th>\n",
       "    </tr>\n",
       "  </thead>\n",
       "  <tbody>\n",
       "    <tr>\n",
       "      <th>0</th>\n",
       "      <td>1</td>\n",
       "      <td>60</td>\n",
       "      <td>RL</td>\n",
       "      <td>65.0</td>\n",
       "      <td>8450</td>\n",
       "      <td>Pave</td>\n",
       "      <td>NaN</td>\n",
       "      <td>Reg</td>\n",
       "      <td>Lvl</td>\n",
       "      <td>AllPub</td>\n",
       "      <td>...</td>\n",
       "      <td>0</td>\n",
       "      <td>NaN</td>\n",
       "      <td>NaN</td>\n",
       "      <td>NaN</td>\n",
       "      <td>0</td>\n",
       "      <td>2</td>\n",
       "      <td>2008</td>\n",
       "      <td>WD</td>\n",
       "      <td>Normal</td>\n",
       "      <td>208500</td>\n",
       "    </tr>\n",
       "    <tr>\n",
       "      <th>1</th>\n",
       "      <td>2</td>\n",
       "      <td>20</td>\n",
       "      <td>RL</td>\n",
       "      <td>80.0</td>\n",
       "      <td>9600</td>\n",
       "      <td>Pave</td>\n",
       "      <td>NaN</td>\n",
       "      <td>Reg</td>\n",
       "      <td>Lvl</td>\n",
       "      <td>AllPub</td>\n",
       "      <td>...</td>\n",
       "      <td>0</td>\n",
       "      <td>NaN</td>\n",
       "      <td>NaN</td>\n",
       "      <td>NaN</td>\n",
       "      <td>0</td>\n",
       "      <td>5</td>\n",
       "      <td>2007</td>\n",
       "      <td>WD</td>\n",
       "      <td>Normal</td>\n",
       "      <td>181500</td>\n",
       "    </tr>\n",
       "    <tr>\n",
       "      <th>2</th>\n",
       "      <td>3</td>\n",
       "      <td>60</td>\n",
       "      <td>RL</td>\n",
       "      <td>68.0</td>\n",
       "      <td>11250</td>\n",
       "      <td>Pave</td>\n",
       "      <td>NaN</td>\n",
       "      <td>IR1</td>\n",
       "      <td>Lvl</td>\n",
       "      <td>AllPub</td>\n",
       "      <td>...</td>\n",
       "      <td>0</td>\n",
       "      <td>NaN</td>\n",
       "      <td>NaN</td>\n",
       "      <td>NaN</td>\n",
       "      <td>0</td>\n",
       "      <td>9</td>\n",
       "      <td>2008</td>\n",
       "      <td>WD</td>\n",
       "      <td>Normal</td>\n",
       "      <td>223500</td>\n",
       "    </tr>\n",
       "    <tr>\n",
       "      <th>3</th>\n",
       "      <td>4</td>\n",
       "      <td>70</td>\n",
       "      <td>RL</td>\n",
       "      <td>60.0</td>\n",
       "      <td>9550</td>\n",
       "      <td>Pave</td>\n",
       "      <td>NaN</td>\n",
       "      <td>IR1</td>\n",
       "      <td>Lvl</td>\n",
       "      <td>AllPub</td>\n",
       "      <td>...</td>\n",
       "      <td>0</td>\n",
       "      <td>NaN</td>\n",
       "      <td>NaN</td>\n",
       "      <td>NaN</td>\n",
       "      <td>0</td>\n",
       "      <td>2</td>\n",
       "      <td>2006</td>\n",
       "      <td>WD</td>\n",
       "      <td>Abnorml</td>\n",
       "      <td>140000</td>\n",
       "    </tr>\n",
       "    <tr>\n",
       "      <th>4</th>\n",
       "      <td>5</td>\n",
       "      <td>60</td>\n",
       "      <td>RL</td>\n",
       "      <td>84.0</td>\n",
       "      <td>14260</td>\n",
       "      <td>Pave</td>\n",
       "      <td>NaN</td>\n",
       "      <td>IR1</td>\n",
       "      <td>Lvl</td>\n",
       "      <td>AllPub</td>\n",
       "      <td>...</td>\n",
       "      <td>0</td>\n",
       "      <td>NaN</td>\n",
       "      <td>NaN</td>\n",
       "      <td>NaN</td>\n",
       "      <td>0</td>\n",
       "      <td>12</td>\n",
       "      <td>2008</td>\n",
       "      <td>WD</td>\n",
       "      <td>Normal</td>\n",
       "      <td>250000</td>\n",
       "    </tr>\n",
       "  </tbody>\n",
       "</table>\n",
       "<p>5 rows × 81 columns</p>\n",
       "</div>"
      ],
      "text/plain": [
       "   Id  MSSubClass MSZoning  LotFrontage  LotArea Street Alley LotShape  \\\n",
       "0   1          60       RL         65.0     8450   Pave   NaN      Reg   \n",
       "1   2          20       RL         80.0     9600   Pave   NaN      Reg   \n",
       "2   3          60       RL         68.0    11250   Pave   NaN      IR1   \n",
       "3   4          70       RL         60.0     9550   Pave   NaN      IR1   \n",
       "4   5          60       RL         84.0    14260   Pave   NaN      IR1   \n",
       "\n",
       "  LandContour Utilities  ... PoolArea PoolQC Fence MiscFeature MiscVal MoSold  \\\n",
       "0         Lvl    AllPub  ...        0    NaN   NaN         NaN       0      2   \n",
       "1         Lvl    AllPub  ...        0    NaN   NaN         NaN       0      5   \n",
       "2         Lvl    AllPub  ...        0    NaN   NaN         NaN       0      9   \n",
       "3         Lvl    AllPub  ...        0    NaN   NaN         NaN       0      2   \n",
       "4         Lvl    AllPub  ...        0    NaN   NaN         NaN       0     12   \n",
       "\n",
       "  YrSold  SaleType  SaleCondition  SalePrice  \n",
       "0   2008        WD         Normal     208500  \n",
       "1   2007        WD         Normal     181500  \n",
       "2   2008        WD         Normal     223500  \n",
       "3   2006        WD        Abnorml     140000  \n",
       "4   2008        WD         Normal     250000  \n",
       "\n",
       "[5 rows x 81 columns]"
      ]
     },
     "execution_count": 4,
     "metadata": {},
     "output_type": "execute_result"
    }
   ],
   "source": [
    "train.head()"
   ]
  },
  {
   "cell_type": "code",
   "execution_count": 5,
   "id": "1d64405b",
   "metadata": {
    "execution": {
     "iopub.execute_input": "2022-02-25T17:35:03.722297Z",
     "iopub.status.busy": "2022-02-25T17:35:03.721614Z",
     "iopub.status.idle": "2022-02-25T17:35:03.728564Z",
     "shell.execute_reply": "2022-02-25T17:35:03.729162Z",
     "shell.execute_reply.started": "2022-02-06T04:08:02.953481Z"
    },
    "papermill": {
     "duration": 0.081358,
     "end_time": "2022-02-25T17:35:03.729342",
     "exception": false,
     "start_time": "2022-02-25T17:35:03.647984",
     "status": "completed"
    },
    "tags": []
   },
   "outputs": [
    {
     "data": {
      "text/plain": [
       "Id                 int64\n",
       "MSSubClass         int64\n",
       "MSZoning          object\n",
       "LotFrontage      float64\n",
       "LotArea            int64\n",
       "                  ...   \n",
       "MoSold             int64\n",
       "YrSold             int64\n",
       "SaleType          object\n",
       "SaleCondition     object\n",
       "SalePrice          int64\n",
       "Length: 81, dtype: object"
      ]
     },
     "execution_count": 5,
     "metadata": {},
     "output_type": "execute_result"
    }
   ],
   "source": [
    "train.dtypes"
   ]
  },
  {
   "cell_type": "code",
   "execution_count": 6,
   "id": "2f55a6f3",
   "metadata": {
    "execution": {
     "iopub.execute_input": "2022-02-25T17:35:03.877594Z",
     "iopub.status.busy": "2022-02-25T17:35:03.876897Z",
     "iopub.status.idle": "2022-02-25T17:35:03.912145Z",
     "shell.execute_reply": "2022-02-25T17:35:03.912874Z",
     "shell.execute_reply.started": "2022-02-06T04:08:02.96498Z"
    },
    "papermill": {
     "duration": 0.110312,
     "end_time": "2022-02-25T17:35:03.913065",
     "exception": false,
     "start_time": "2022-02-25T17:35:03.802753",
     "status": "completed"
    },
    "tags": []
   },
   "outputs": [
    {
     "name": "stdout",
     "output_type": "stream",
     "text": [
      "<class 'pandas.core.frame.DataFrame'>\n",
      "RangeIndex: 1460 entries, 0 to 1459\n",
      "Data columns (total 81 columns):\n",
      " #   Column         Non-Null Count  Dtype  \n",
      "---  ------         --------------  -----  \n",
      " 0   Id             1460 non-null   int64  \n",
      " 1   MSSubClass     1460 non-null   int64  \n",
      " 2   MSZoning       1460 non-null   object \n",
      " 3   LotFrontage    1201 non-null   float64\n",
      " 4   LotArea        1460 non-null   int64  \n",
      " 5   Street         1460 non-null   object \n",
      " 6   Alley          91 non-null     object \n",
      " 7   LotShape       1460 non-null   object \n",
      " 8   LandContour    1460 non-null   object \n",
      " 9   Utilities      1460 non-null   object \n",
      " 10  LotConfig      1460 non-null   object \n",
      " 11  LandSlope      1460 non-null   object \n",
      " 12  Neighborhood   1460 non-null   object \n",
      " 13  Condition1     1460 non-null   object \n",
      " 14  Condition2     1460 non-null   object \n",
      " 15  BldgType       1460 non-null   object \n",
      " 16  HouseStyle     1460 non-null   object \n",
      " 17  OverallQual    1460 non-null   int64  \n",
      " 18  OverallCond    1460 non-null   int64  \n",
      " 19  YearBuilt      1460 non-null   int64  \n",
      " 20  YearRemodAdd   1460 non-null   int64  \n",
      " 21  RoofStyle      1460 non-null   object \n",
      " 22  RoofMatl       1460 non-null   object \n",
      " 23  Exterior1st    1460 non-null   object \n",
      " 24  Exterior2nd    1460 non-null   object \n",
      " 25  MasVnrType     1452 non-null   object \n",
      " 26  MasVnrArea     1452 non-null   float64\n",
      " 27  ExterQual      1460 non-null   object \n",
      " 28  ExterCond      1460 non-null   object \n",
      " 29  Foundation     1460 non-null   object \n",
      " 30  BsmtQual       1423 non-null   object \n",
      " 31  BsmtCond       1423 non-null   object \n",
      " 32  BsmtExposure   1422 non-null   object \n",
      " 33  BsmtFinType1   1423 non-null   object \n",
      " 34  BsmtFinSF1     1460 non-null   int64  \n",
      " 35  BsmtFinType2   1422 non-null   object \n",
      " 36  BsmtFinSF2     1460 non-null   int64  \n",
      " 37  BsmtUnfSF      1460 non-null   int64  \n",
      " 38  TotalBsmtSF    1460 non-null   int64  \n",
      " 39  Heating        1460 non-null   object \n",
      " 40  HeatingQC      1460 non-null   object \n",
      " 41  CentralAir     1460 non-null   object \n",
      " 42  Electrical     1459 non-null   object \n",
      " 43  1stFlrSF       1460 non-null   int64  \n",
      " 44  2ndFlrSF       1460 non-null   int64  \n",
      " 45  LowQualFinSF   1460 non-null   int64  \n",
      " 46  GrLivArea      1460 non-null   int64  \n",
      " 47  BsmtFullBath   1460 non-null   int64  \n",
      " 48  BsmtHalfBath   1460 non-null   int64  \n",
      " 49  FullBath       1460 non-null   int64  \n",
      " 50  HalfBath       1460 non-null   int64  \n",
      " 51  BedroomAbvGr   1460 non-null   int64  \n",
      " 52  KitchenAbvGr   1460 non-null   int64  \n",
      " 53  KitchenQual    1460 non-null   object \n",
      " 54  TotRmsAbvGrd   1460 non-null   int64  \n",
      " 55  Functional     1460 non-null   object \n",
      " 56  Fireplaces     1460 non-null   int64  \n",
      " 57  FireplaceQu    770 non-null    object \n",
      " 58  GarageType     1379 non-null   object \n",
      " 59  GarageYrBlt    1379 non-null   float64\n",
      " 60  GarageFinish   1379 non-null   object \n",
      " 61  GarageCars     1460 non-null   int64  \n",
      " 62  GarageArea     1460 non-null   int64  \n",
      " 63  GarageQual     1379 non-null   object \n",
      " 64  GarageCond     1379 non-null   object \n",
      " 65  PavedDrive     1460 non-null   object \n",
      " 66  WoodDeckSF     1460 non-null   int64  \n",
      " 67  OpenPorchSF    1460 non-null   int64  \n",
      " 68  EnclosedPorch  1460 non-null   int64  \n",
      " 69  3SsnPorch      1460 non-null   int64  \n",
      " 70  ScreenPorch    1460 non-null   int64  \n",
      " 71  PoolArea       1460 non-null   int64  \n",
      " 72  PoolQC         7 non-null      object \n",
      " 73  Fence          281 non-null    object \n",
      " 74  MiscFeature    54 non-null     object \n",
      " 75  MiscVal        1460 non-null   int64  \n",
      " 76  MoSold         1460 non-null   int64  \n",
      " 77  YrSold         1460 non-null   int64  \n",
      " 78  SaleType       1460 non-null   object \n",
      " 79  SaleCondition  1460 non-null   object \n",
      " 80  SalePrice      1460 non-null   int64  \n",
      "dtypes: float64(3), int64(35), object(43)\n",
      "memory usage: 924.0+ KB\n"
     ]
    }
   ],
   "source": [
    "train.info()"
   ]
  },
  {
   "cell_type": "code",
   "execution_count": 7,
   "id": "8388c997",
   "metadata": {
    "execution": {
     "iopub.execute_input": "2022-02-25T17:35:04.060679Z",
     "iopub.status.busy": "2022-02-25T17:35:04.060051Z",
     "iopub.status.idle": "2022-02-25T17:35:04.724913Z",
     "shell.execute_reply": "2022-02-25T17:35:04.725513Z",
     "shell.execute_reply.started": "2022-02-06T04:08:03.006097Z"
    },
    "papermill": {
     "duration": 0.739184,
     "end_time": "2022-02-25T17:35:04.725730",
     "exception": false,
     "start_time": "2022-02-25T17:35:03.986546",
     "status": "completed"
    },
    "tags": []
   },
   "outputs": [
    {
     "data": {
      "text/plain": [
       "<AxesSubplot:>"
      ]
     },
     "execution_count": 7,
     "metadata": {},
     "output_type": "execute_result"
    },
    {
     "data": {
      "image/png": "[encoded data removed]",
      "text/plain": [
       "<Figure size 432x288 with 1 Axes>"
      ]
     },
     "metadata": {
      "needs_background": "light"
     },
     "output_type": "display_data"
    }
   ],
   "source": [
    "sns.heatmap(train.isnull(),yticklabels=False,cbar=False)"
   ]
  },
  {
   "cell_type": "markdown",
   "id": "742d3587",
   "metadata": {
    "papermill": {
     "duration": 0.072271,
     "end_time": "2022-02-25T17:35:04.874858",
     "exception": false,
     "start_time": "2022-02-25T17:35:04.802587",
     "status": "completed"
    },
    "tags": []
   },
   "source": [
    "## <p style=\"background-color:#A7FC86;color:black;font-size:21px;text-align:center;border-radius:10px 10px;\"> 💢Data Preprocessing </p>"
   ]
  },
  {
   "cell_type": "markdown",
   "id": "e7d4a12a",
   "metadata": {
    "papermill": {
     "duration": 0.075588,
     "end_time": "2022-02-25T17:35:05.025852",
     "exception": false,
     "start_time": "2022-02-25T17:35:04.950264",
     "status": "completed"
    },
    "tags": []
   },
   "source": [
    "<font size=\"4\"> There are many missing values in columns. we need to impute some of them.let's check missing value percentages. </font>"
   ]
  },
  {
   "cell_type": "code",
   "execution_count": 8,
   "id": "34ea7c77",
   "metadata": {
    "execution": {
     "iopub.execute_input": "2022-02-25T17:35:05.177533Z",
     "iopub.status.busy": "2022-02-25T17:35:05.176779Z",
     "iopub.status.idle": "2022-02-25T17:35:05.225120Z",
     "shell.execute_reply": "2022-02-25T17:35:05.224269Z",
     "shell.execute_reply.started": "2022-02-06T04:08:03.667112Z"
    },
    "papermill": {
     "duration": 0.122947,
     "end_time": "2022-02-25T17:35:05.225419",
     "exception": false,
     "start_time": "2022-02-25T17:35:05.102472",
     "status": "completed"
    },
    "tags": []
   },
   "outputs": [
    {
     "name": "stdout",
     "output_type": "stream",
     "text": [
      "LotFrontage 0.1774  % missing values.\n",
      "\n",
      "Alley 0.9377  % missing values.\n",
      "\n",
      "MasVnrType 0.0055  % missing values.\n",
      "\n",
      "MasVnrArea 0.0055  % missing values.\n",
      "\n",
      "BsmtQual 0.0253  % missing values.\n",
      "\n",
      "BsmtCond 0.0253  % missing values.\n",
      "\n",
      "BsmtExposure 0.026  % missing values.\n",
      "\n",
      "BsmtFinType1 0.0253  % missing values.\n",
      "\n",
      "BsmtFinType2 0.026  % missing values.\n",
      "\n",
      "FireplaceQu 0.4726  % missing values.\n",
      "\n",
      "GarageType 0.0555  % missing values.\n",
      "\n",
      "GarageYrBlt 0.0555  % missing values.\n",
      "\n",
      "GarageFinish 0.0555  % missing values.\n",
      "\n",
      "GarageQual 0.0555  % missing values.\n",
      "\n",
      "GarageCond 0.0555  % missing values.\n",
      "\n",
      "PoolQC 0.9952  % missing values.\n",
      "\n",
      "Fence 0.8075  % missing values.\n",
      "\n",
      "MiscFeature 0.963  % missing values.\n",
      "\n"
     ]
    }
   ],
   "source": [
    "features=[features for features in train.columns if train[features].isnull().sum()>1]\n",
    "for feature in features:\n",
    "    print(feature, np.round(train[feature].isnull().mean(), 4),  ' % missing values.\\n')"
   ]
  },
  {
   "cell_type": "code",
   "execution_count": 9,
   "id": "f485752b",
   "metadata": {
    "execution": {
     "iopub.execute_input": "2022-02-25T17:35:05.381942Z",
     "iopub.status.busy": "2022-02-25T17:35:05.380339Z",
     "iopub.status.idle": "2022-02-25T17:35:05.385771Z",
     "shell.execute_reply": "2022-02-25T17:35:05.385120Z",
     "shell.execute_reply.started": "2022-02-06T04:08:03.712294Z"
    },
    "papermill": {
     "duration": 0.085856,
     "end_time": "2022-02-25T17:35:05.385917",
     "exception": false,
     "start_time": "2022-02-25T17:35:05.300061",
     "status": "completed"
    },
    "tags": []
   },
   "outputs": [],
   "source": [
    "#remove features with more than 20 percent missing values.\n",
    "train=train.drop(['MiscFeature','Fence','PoolQC','FireplaceQu','Alley'],1)\n",
    "#remove ID column since it has unique values which are not important to our predicitive model.\n",
    "train=train.drop(['Id'],1)"
   ]
  },
  {
   "cell_type": "code",
   "execution_count": 10,
   "id": "759f7bd9",
   "metadata": {
    "execution": {
     "iopub.execute_input": "2022-02-25T17:35:05.547231Z",
     "iopub.status.busy": "2022-02-25T17:35:05.546179Z",
     "iopub.status.idle": "2022-02-25T17:35:05.549194Z",
     "shell.execute_reply": "2022-02-25T17:35:05.548611Z",
     "shell.execute_reply.started": "2022-02-06T04:08:03.725484Z"
    },
    "papermill": {
     "duration": 0.084825,
     "end_time": "2022-02-25T17:35:05.549338",
     "exception": false,
     "start_time": "2022-02-25T17:35:05.464513",
     "status": "completed"
    },
    "tags": []
   },
   "outputs": [],
   "source": [
    "test=test.drop(['MiscFeature','Fence','PoolQC','FireplaceQu','Alley'],1)\n",
    "#remove ID column since it has unique values which are not important to our predicitive model.\n",
    "test=test.drop(['Id'],1)"
   ]
  },
  {
   "cell_type": "markdown",
   "id": "3ae08bf3",
   "metadata": {
    "papermill": {
     "duration": 0.074486,
     "end_time": "2022-02-25T17:35:05.697564",
     "exception": false,
     "start_time": "2022-02-25T17:35:05.623078",
     "status": "completed"
    },
    "tags": []
   },
   "source": [
    "#### <font size=\"4\">There are numerical and categorical variables in this dataset. so lets first see some descriptive statistics about categorical variables.</font>"
   ]
  },
  {
   "cell_type": "code",
   "execution_count": 11,
   "id": "5ebfe70b",
   "metadata": {
    "execution": {
     "iopub.execute_input": "2022-02-25T17:35:05.852798Z",
     "iopub.status.busy": "2022-02-25T17:35:05.852011Z",
     "iopub.status.idle": "2022-02-25T17:35:05.854742Z",
     "shell.execute_reply": "2022-02-25T17:35:05.855241Z",
     "shell.execute_reply.started": "2022-02-06T04:08:03.740101Z"
    },
    "papermill": {
     "duration": 0.083978,
     "end_time": "2022-02-25T17:35:05.855414",
     "exception": false,
     "start_time": "2022-02-25T17:35:05.771436",
     "status": "completed"
    },
    "tags": []
   },
   "outputs": [
    {
     "name": "stdout",
     "output_type": "stream",
     "text": [
      "The dataset contains 38 categorical columns\n"
     ]
    }
   ],
   "source": [
    "categorical_cols_train= train.select_dtypes(include=['object'])\n",
    "\n",
    "print(f'The dataset contains {len(categorical_cols_train.columns.tolist())} categorical columns')"
   ]
  },
  {
   "cell_type": "code",
   "execution_count": 12,
   "id": "e826615c",
   "metadata": {
    "execution": {
     "iopub.execute_input": "2022-02-25T17:35:06.010426Z",
     "iopub.status.busy": "2022-02-25T17:35:06.009573Z",
     "iopub.status.idle": "2022-02-25T17:35:06.096442Z",
     "shell.execute_reply": "2022-02-25T17:35:06.097042Z",
     "shell.execute_reply.started": "2022-02-06T04:08:03.754948Z"
    },
    "papermill": {
     "duration": 0.166217,
     "end_time": "2022-02-25T17:35:06.097252",
     "exception": false,
     "start_time": "2022-02-25T17:35:05.931035",
     "status": "completed"
    },
    "tags": []
   },
   "outputs": [
    {
     "data": {
      "text/html": [
       "<div>\n",
       "<style scoped>\n",
       "    .dataframe tbody tr th:only-of-type {\n",
       "        vertical-align: middle;\n",
       "    }\n",
       "\n",
       "    .dataframe tbody tr th {\n",
       "        vertical-align: top;\n",
       "    }\n",
       "\n",
       "    .dataframe thead th {\n",
       "        text-align: right;\n",
       "    }\n",
       "</style>\n",
       "<table border=\"1\" class=\"dataframe\">\n",
       "  <thead>\n",
       "    <tr style=\"text-align: right;\">\n",
       "      <th></th>\n",
       "      <th>MSZoning</th>\n",
       "      <th>Street</th>\n",
       "      <th>LotShape</th>\n",
       "      <th>LandContour</th>\n",
       "      <th>Utilities</th>\n",
       "      <th>LotConfig</th>\n",
       "      <th>LandSlope</th>\n",
       "      <th>Neighborhood</th>\n",
       "      <th>Condition1</th>\n",
       "      <th>Condition2</th>\n",
       "      <th>...</th>\n",
       "      <th>Electrical</th>\n",
       "      <th>KitchenQual</th>\n",
       "      <th>Functional</th>\n",
       "      <th>GarageType</th>\n",
       "      <th>GarageFinish</th>\n",
       "      <th>GarageQual</th>\n",
       "      <th>GarageCond</th>\n",
       "      <th>PavedDrive</th>\n",
       "      <th>SaleType</th>\n",
       "      <th>SaleCondition</th>\n",
       "    </tr>\n",
       "  </thead>\n",
       "  <tbody>\n",
       "    <tr>\n",
       "      <th>count</th>\n",
       "      <td>1460</td>\n",
       "      <td>1460</td>\n",
       "      <td>1460</td>\n",
       "      <td>1460</td>\n",
       "      <td>1460</td>\n",
       "      <td>1460</td>\n",
       "      <td>1460</td>\n",
       "      <td>1460</td>\n",
       "      <td>1460</td>\n",
       "      <td>1460</td>\n",
       "      <td>...</td>\n",
       "      <td>1459</td>\n",
       "      <td>1460</td>\n",
       "      <td>1460</td>\n",
       "      <td>1379</td>\n",
       "      <td>1379</td>\n",
       "      <td>1379</td>\n",
       "      <td>1379</td>\n",
       "      <td>1460</td>\n",
       "      <td>1460</td>\n",
       "      <td>1460</td>\n",
       "    </tr>\n",
       "    <tr>\n",
       "      <th>unique</th>\n",
       "      <td>5</td>\n",
       "      <td>2</td>\n",
       "      <td>4</td>\n",
       "      <td>4</td>\n",
       "      <td>2</td>\n",
       "      <td>5</td>\n",
       "      <td>3</td>\n",
       "      <td>25</td>\n",
       "      <td>9</td>\n",
       "      <td>8</td>\n",
       "      <td>...</td>\n",
       "      <td>5</td>\n",
       "      <td>4</td>\n",
       "      <td>7</td>\n",
       "      <td>6</td>\n",
       "      <td>3</td>\n",
       "      <td>5</td>\n",
       "      <td>5</td>\n",
       "      <td>3</td>\n",
       "      <td>9</td>\n",
       "      <td>6</td>\n",
       "    </tr>\n",
       "    <tr>\n",
       "      <th>top</th>\n",
       "      <td>RL</td>\n",
       "      <td>Pave</td>\n",
       "      <td>Reg</td>\n",
       "      <td>Lvl</td>\n",
       "      <td>AllPub</td>\n",
       "      <td>Inside</td>\n",
       "      <td>Gtl</td>\n",
       "      <td>NAmes</td>\n",
       "      <td>Norm</td>\n",
       "      <td>Norm</td>\n",
       "      <td>...</td>\n",
       "      <td>SBrkr</td>\n",
       "      <td>TA</td>\n",
       "      <td>Typ</td>\n",
       "      <td>Attchd</td>\n",
       "      <td>Unf</td>\n",
       "      <td>TA</td>\n",
       "      <td>TA</td>\n",
       "      <td>Y</td>\n",
       "      <td>WD</td>\n",
       "      <td>Normal</td>\n",
       "    </tr>\n",
       "    <tr>\n",
       "      <th>freq</th>\n",
       "      <td>1151</td>\n",
       "      <td>1454</td>\n",
       "      <td>925</td>\n",
       "      <td>1311</td>\n",
       "      <td>1459</td>\n",
       "      <td>1052</td>\n",
       "      <td>1382</td>\n",
       "      <td>225</td>\n",
       "      <td>1260</td>\n",
       "      <td>1445</td>\n",
       "      <td>...</td>\n",
       "      <td>1334</td>\n",
       "      <td>735</td>\n",
       "      <td>1360</td>\n",
       "      <td>870</td>\n",
       "      <td>605</td>\n",
       "      <td>1311</td>\n",
       "      <td>1326</td>\n",
       "      <td>1340</td>\n",
       "      <td>1267</td>\n",
       "      <td>1198</td>\n",
       "    </tr>\n",
       "  </tbody>\n",
       "</table>\n",
       "<p>4 rows × 38 columns</p>\n",
       "</div>"
      ],
      "text/plain": [
       "       MSZoning Street LotShape LandContour Utilities LotConfig LandSlope  \\\n",
       "count      1460   1460     1460        1460      1460      1460      1460   \n",
       "unique        5      2        4           4         2         5         3   \n",
       "top          RL   Pave      Reg         Lvl    AllPub    Inside       Gtl   \n",
       "freq       1151   1454      925        1311      1459      1052      1382   \n",
       "\n",
       "       Neighborhood Condition1 Condition2  ... Electrical KitchenQual  \\\n",
       "count          1460       1460       1460  ...       1459        1460   \n",
       "unique           25          9          8  ...          5           4   \n",
       "top           NAmes       Norm       Norm  ...      SBrkr          TA   \n",
       "freq            225       1260       1445  ...       1334         735   \n",
       "\n",
       "       Functional GarageType GarageFinish GarageQual GarageCond PavedDrive  \\\n",
       "count        1460       1379         1379       1379       1379       1460   \n",
       "unique          7          6            3          5          5          3   \n",
       "top           Typ     Attchd          Unf         TA         TA          Y   \n",
       "freq         1360        870          605       1311       1326       1340   \n",
       "\n",
       "       SaleType SaleCondition  \n",
       "count      1460          1460  \n",
       "unique        9             6  \n",
       "top          WD        Normal  \n",
       "freq       1267          1198  \n",
       "\n",
       "[4 rows x 38 columns]"
      ]
     },
     "execution_count": 12,
     "metadata": {},
     "output_type": "execute_result"
    }
   ],
   "source": [
    "categorical_cols_train.describe()"
   ]
  },
  {
   "cell_type": "markdown",
   "id": "00492061",
   "metadata": {
    "papermill": {
     "duration": 0.076548,
     "end_time": "2022-02-25T17:35:06.248058",
     "exception": false,
     "start_time": "2022-02-25T17:35:06.171510",
     "status": "completed"
    },
    "tags": []
   },
   "source": [
    "<font size=\"4\">since there are very less number of missing values in categorical variables, I will impute that using mode. </font>"
   ]
  },
  {
   "cell_type": "code",
   "execution_count": 13,
   "id": "14cb6094",
   "metadata": {
    "execution": {
     "iopub.execute_input": "2022-02-25T17:35:06.401072Z",
     "iopub.status.busy": "2022-02-25T17:35:06.400353Z",
     "iopub.status.idle": "2022-02-25T17:35:06.413932Z",
     "shell.execute_reply": "2022-02-25T17:35:06.414487Z",
     "shell.execute_reply.started": "2022-02-06T04:08:03.846878Z"
    },
    "papermill": {
     "duration": 0.091345,
     "end_time": "2022-02-25T17:35:06.414681",
     "exception": false,
     "start_time": "2022-02-25T17:35:06.323336",
     "status": "completed"
    },
    "tags": []
   },
   "outputs": [
    {
     "data": {
      "text/plain": [
       "Index(['MasVnrType', 'BsmtQual', 'BsmtCond', 'BsmtExposure', 'BsmtFinType1',\n",
       "       'BsmtFinType2', 'Electrical', 'GarageType', 'GarageFinish',\n",
       "       'GarageQual', 'GarageCond'],\n",
       "      dtype='object')"
      ]
     },
     "execution_count": 13,
     "metadata": {},
     "output_type": "execute_result"
    }
   ],
   "source": [
    "categorical_cols_missing = categorical_cols_train.columns[categorical_cols_train.isnull().any()]\n",
    "categorical_cols_missing\n",
    "#there are some observations as none which are not missing values. "
   ]
  },
  {
   "cell_type": "code",
   "execution_count": 14,
   "id": "4be9a11c",
   "metadata": {
    "execution": {
     "iopub.execute_input": "2022-02-25T17:35:06.571841Z",
     "iopub.status.busy": "2022-02-25T17:35:06.571005Z",
     "iopub.status.idle": "2022-02-25T17:35:07.002901Z",
     "shell.execute_reply": "2022-02-25T17:35:07.002142Z",
     "shell.execute_reply.started": "2022-02-06T04:08:03.869141Z"
    },
    "papermill": {
     "duration": 0.513549,
     "end_time": "2022-02-25T17:35:07.003063",
     "exception": false,
     "start_time": "2022-02-25T17:35:06.489514",
     "status": "completed"
    },
    "tags": []
   },
   "outputs": [],
   "source": [
    "from sklearn.impute import SimpleImputer\n",
    "categoricalImputer = SimpleImputer(missing_values = np.NaN,strategy = 'most_frequent')\n",
    "for feature in categorical_cols_missing:\n",
    "     categorical_cols_train[feature] = categoricalImputer.fit_transform(categorical_cols_train[feature].values.reshape(-1,1))\n",
    "     train[feature] = categoricalImputer.fit_transform(train[feature].values.reshape(-1,1))"
   ]
  },
  {
   "cell_type": "markdown",
   "id": "e9420907",
   "metadata": {
    "papermill": {
     "duration": 0.073278,
     "end_time": "2022-02-25T17:35:07.150268",
     "exception": false,
     "start_time": "2022-02-25T17:35:07.076990",
     "status": "completed"
    },
    "tags": []
   },
   "source": [
    "<font size=\"4\"> If we use the same method to impute categorical missing values. then it will not be imputed from training set. since there may be differences in mode of those variables in train and test sets.</font>"
   ]
  },
  {
   "cell_type": "code",
   "execution_count": 15,
   "id": "6e616a40",
   "metadata": {
    "execution": {
     "iopub.execute_input": "2022-02-25T17:35:07.307790Z",
     "iopub.status.busy": "2022-02-25T17:35:07.306688Z",
     "iopub.status.idle": "2022-02-25T17:35:07.322920Z",
     "shell.execute_reply": "2022-02-25T17:35:07.323427Z",
     "shell.execute_reply.started": "2022-02-06T04:08:04.260038Z"
    },
    "papermill": {
     "duration": 0.100011,
     "end_time": "2022-02-25T17:35:07.323625",
     "exception": false,
     "start_time": "2022-02-25T17:35:07.223614",
     "status": "completed"
    },
    "tags": []
   },
   "outputs": [],
   "source": [
    "test['MasVnrType']=test['MasVnrType'].fillna(train['MasVnrType'].mode()[0])\n",
    "test['BsmtQual']=test['BsmtQual'].fillna(train['BsmtQual'].mode()[0])\n",
    "test['BsmtCond']=test['BsmtCond'].fillna(train['BsmtCond'].mode()[0])\n",
    "test['BsmtExposure']=test['BsmtExposure'].fillna(train['BsmtExposure'].mode()[0])\n",
    "test['BsmtFinType1']=test['BsmtFinType1'].fillna(train['BsmtFinType1'].mode()[0])\n",
    "test['BsmtFinType2']=test['BsmtFinType2'].fillna(train['BsmtFinType2'].mode()[0])\n",
    "test['Electrical']=test['Electrical'].fillna(train['Electrical'].mode()[0])\n",
    "test['GarageType']=test['GarageType'].fillna(train['GarageType'].mode()[0])\n",
    "test['GarageFinish']=test['GarageFinish'].fillna(train['GarageFinish'].mode()[0])\n",
    "test['GarageQual']=test['GarageQual'].fillna(train['GarageQual'].mode()[0])\n",
    "test['GarageCond']=test['GarageCond'].fillna(train['GarageCond'].mode()[0])"
   ]
  },
  {
   "cell_type": "code",
   "execution_count": 16,
   "id": "bcf2b3ac",
   "metadata": {
    "execution": {
     "iopub.execute_input": "2022-02-25T17:35:07.479192Z",
     "iopub.status.busy": "2022-02-25T17:35:07.478154Z",
     "iopub.status.idle": "2022-02-25T17:35:07.971441Z",
     "shell.execute_reply": "2022-02-25T17:35:07.970824Z",
     "shell.execute_reply.started": "2022-02-06T04:08:04.29252Z"
    },
    "papermill": {
     "duration": 0.572647,
     "end_time": "2022-02-25T17:35:07.971591",
     "exception": false,
     "start_time": "2022-02-25T17:35:07.398944",
     "status": "completed"
    },
    "tags": []
   },
   "outputs": [
    {
     "data": {
      "text/plain": [
       "<AxesSubplot:>"
      ]
     },
     "execution_count": 16,
     "metadata": {},
     "output_type": "execute_result"
    },
    {
     "data": {
      "image/png": "[encoded data removed]",
      "text/plain": [
       "<Figure size 432x288 with 1 Axes>"
      ]
     },
     "metadata": {
      "needs_background": "light"
     },
     "output_type": "display_data"
    }
   ],
   "source": [
    "sns.heatmap(train.isnull(),yticklabels=False,cbar=False)"
   ]
  },
  {
   "cell_type": "code",
   "execution_count": 17,
   "id": "e054f31f",
   "metadata": {
    "execution": {
     "iopub.execute_input": "2022-02-25T17:35:08.125956Z",
     "iopub.status.busy": "2022-02-25T17:35:08.125307Z",
     "iopub.status.idle": "2022-02-25T17:35:08.139057Z",
     "shell.execute_reply": "2022-02-25T17:35:08.139654Z",
     "shell.execute_reply.started": "2022-02-06T04:08:04.795541Z"
    },
    "papermill": {
     "duration": 0.093031,
     "end_time": "2022-02-25T17:35:08.139847",
     "exception": false,
     "start_time": "2022-02-25T17:35:08.046816",
     "status": "completed"
    },
    "tags": []
   },
   "outputs": [
    {
     "data": {
      "text/plain": [
       "Index(['LotFrontage', 'MasVnrArea', 'GarageYrBlt'], dtype='object')"
      ]
     },
     "execution_count": 17,
     "metadata": {},
     "output_type": "execute_result"
    }
   ],
   "source": [
    "train.columns[train.isnull().any()]"
   ]
  },
  {
   "cell_type": "code",
   "execution_count": 18,
   "id": "c5567935",
   "metadata": {
    "execution": {
     "iopub.execute_input": "2022-02-25T17:35:08.298532Z",
     "iopub.status.busy": "2022-02-25T17:35:08.297691Z",
     "iopub.status.idle": "2022-02-25T17:35:08.640936Z",
     "shell.execute_reply": "2022-02-25T17:35:08.639977Z",
     "shell.execute_reply.started": "2022-02-06T04:08:04.812795Z"
    },
    "papermill": {
     "duration": 0.424195,
     "end_time": "2022-02-25T17:35:08.641103",
     "exception": false,
     "start_time": "2022-02-25T17:35:08.216908",
     "status": "completed"
    },
    "tags": []
   },
   "outputs": [
    {
     "data": {
      "text/plain": [
       "<AxesSubplot:>"
      ]
     },
     "execution_count": 18,
     "metadata": {},
     "output_type": "execute_result"
    },
    {
     "data": {
      "image/png": "[encoded data removed]",
      "text/plain": [
       "<Figure size 432x288 with 1 Axes>"
      ]
     },
     "metadata": {
      "needs_background": "light"
     },
     "output_type": "display_data"
    }
   ],
   "source": [
    "train['LotFrontage'].hist(bins = 50)"
   ]
  },
  {
   "cell_type": "code",
   "execution_count": 19,
   "id": "e96983b1",
   "metadata": {
    "execution": {
     "iopub.execute_input": "2022-02-25T17:35:08.805837Z",
     "iopub.status.busy": "2022-02-25T17:35:08.804769Z",
     "iopub.status.idle": "2022-02-25T17:35:08.813276Z",
     "shell.execute_reply": "2022-02-25T17:35:08.813827Z",
     "shell.execute_reply.started": "2022-02-06T04:08:05.176572Z"
    },
    "papermill": {
     "duration": 0.096022,
     "end_time": "2022-02-25T17:35:08.814055",
     "exception": false,
     "start_time": "2022-02-25T17:35:08.718033",
     "status": "completed"
    },
    "tags": []
   },
   "outputs": [
    {
     "data": {
      "text/plain": [
       "count    1201.000000\n",
       "mean       70.049958\n",
       "std        24.284752\n",
       "min        21.000000\n",
       "25%        59.000000\n",
       "50%        69.000000\n",
       "75%        80.000000\n",
       "max       313.000000\n",
       "Name: LotFrontage, dtype: float64"
      ]
     },
     "execution_count": 19,
     "metadata": {},
     "output_type": "execute_result"
    }
   ],
   "source": [
    "train['LotFrontage'].describe()"
   ]
  },
  {
   "cell_type": "markdown",
   "id": "d8a10d14",
   "metadata": {
    "papermill": {
     "duration": 0.078871,
     "end_time": "2022-02-25T17:35:08.971833",
     "exception": false,
     "start_time": "2022-02-25T17:35:08.892962",
     "status": "completed"
    },
    "tags": []
   },
   "source": [
    "<font size=\"4\">Here I am going to impute the missing values in this variable with values in between 25th percentile and 75th percentile randomly.</font>"
   ]
  },
  {
   "cell_type": "code",
   "execution_count": 20,
   "id": "cce5a930",
   "metadata": {
    "execution": {
     "iopub.execute_input": "2022-02-25T17:35:09.140985Z",
     "iopub.status.busy": "2022-02-25T17:35:09.139810Z",
     "iopub.status.idle": "2022-02-25T17:35:09.142880Z",
     "shell.execute_reply": "2022-02-25T17:35:09.142063Z",
     "shell.execute_reply.started": "2022-02-06T04:08:05.191043Z"
    },
    "papermill": {
     "duration": 0.088682,
     "end_time": "2022-02-25T17:35:09.143082",
     "exception": false,
     "start_time": "2022-02-25T17:35:09.054400",
     "status": "completed"
    },
    "tags": []
   },
   "outputs": [],
   "source": [
    "train['LotFrontage'].fillna(np.random.randint(59,80), inplace = True)"
   ]
  },
  {
   "cell_type": "code",
   "execution_count": 21,
   "id": "227cfb01",
   "metadata": {
    "execution": {
     "iopub.execute_input": "2022-02-25T17:35:09.308072Z",
     "iopub.status.busy": "2022-02-25T17:35:09.306998Z",
     "iopub.status.idle": "2022-02-25T17:35:09.312405Z",
     "shell.execute_reply": "2022-02-25T17:35:09.313035Z",
     "shell.execute_reply.started": "2022-02-06T04:08:05.201552Z"
    },
    "papermill": {
     "duration": 0.090775,
     "end_time": "2022-02-25T17:35:09.313221",
     "exception": false,
     "start_time": "2022-02-25T17:35:09.222446",
     "status": "completed"
    },
    "tags": []
   },
   "outputs": [],
   "source": [
    "test['LotFrontage'].fillna(np.random.randint(59,80), inplace = True)"
   ]
  },
  {
   "cell_type": "code",
   "execution_count": 22,
   "id": "eddd1906",
   "metadata": {
    "execution": {
     "iopub.execute_input": "2022-02-25T17:35:09.482818Z",
     "iopub.status.busy": "2022-02-25T17:35:09.482072Z",
     "iopub.status.idle": "2022-02-25T17:35:09.811322Z",
     "shell.execute_reply": "2022-02-25T17:35:09.811874Z",
     "shell.execute_reply.started": "2022-02-06T04:08:05.21723Z"
    },
    "papermill": {
     "duration": 0.416076,
     "end_time": "2022-02-25T17:35:09.812049",
     "exception": false,
     "start_time": "2022-02-25T17:35:09.395973",
     "status": "completed"
    },
    "tags": []
   },
   "outputs": [
    {
     "data": {
      "text/plain": [
       "<AxesSubplot:>"
      ]
     },
     "execution_count": 22,
     "metadata": {},
     "output_type": "execute_result"
    },
    {
     "data": {
      "image/png": "[encoded data removed]",
      "text/plain": [
       "<Figure size 432x288 with 1 Axes>"
      ]
     },
     "metadata": {
      "needs_background": "light"
     },
     "output_type": "display_data"
    }
   ],
   "source": [
    "train['MasVnrArea'].hist(bins = 50)"
   ]
  },
  {
   "cell_type": "code",
   "execution_count": 23,
   "id": "db987e05",
   "metadata": {
    "execution": {
     "iopub.execute_input": "2022-02-25T17:35:09.979949Z",
     "iopub.status.busy": "2022-02-25T17:35:09.978931Z",
     "iopub.status.idle": "2022-02-25T17:35:09.991901Z",
     "shell.execute_reply": "2022-02-25T17:35:09.993028Z",
     "shell.execute_reply.started": "2022-02-06T04:08:05.574385Z"
    },
    "papermill": {
     "duration": 0.10308,
     "end_time": "2022-02-25T17:35:09.993319",
     "exception": false,
     "start_time": "2022-02-25T17:35:09.890239",
     "status": "completed"
    },
    "tags": []
   },
   "outputs": [
    {
     "data": {
      "text/plain": [
       "count    1452.000000\n",
       "mean      103.685262\n",
       "std       181.066207\n",
       "min         0.000000\n",
       "25%         0.000000\n",
       "50%         0.000000\n",
       "75%       166.000000\n",
       "max      1600.000000\n",
       "Name: MasVnrArea, dtype: float64"
      ]
     },
     "execution_count": 23,
     "metadata": {},
     "output_type": "execute_result"
    }
   ],
   "source": [
    "train['MasVnrArea'].describe()"
   ]
  },
  {
   "cell_type": "markdown",
   "id": "00aa3824",
   "metadata": {
    "papermill": {
     "duration": 0.080388,
     "end_time": "2022-02-25T17:35:10.168734",
     "exception": false,
     "start_time": "2022-02-25T17:35:10.088346",
     "status": "completed"
    },
    "tags": []
   },
   "source": [
    "<font size=\"4\">Although the distribution is skewed mean and median values are both zero. Hence I will impute these missing values with zero.</font>"
   ]
  },
  {
   "cell_type": "code",
   "execution_count": 24,
   "id": "c696d905",
   "metadata": {
    "execution": {
     "iopub.execute_input": "2022-02-25T17:35:10.329189Z",
     "iopub.status.busy": "2022-02-25T17:35:10.328450Z",
     "iopub.status.idle": "2022-02-25T17:35:10.334366Z",
     "shell.execute_reply": "2022-02-25T17:35:10.333780Z",
     "shell.execute_reply.started": "2022-02-06T04:08:05.586946Z"
    },
    "papermill": {
     "duration": 0.087852,
     "end_time": "2022-02-25T17:35:10.334523",
     "exception": false,
     "start_time": "2022-02-25T17:35:10.246671",
     "status": "completed"
    },
    "tags": []
   },
   "outputs": [],
   "source": [
    "train['MasVnrArea'].fillna(0, inplace = True)\n",
    "test['MasVnrArea'].fillna(0, inplace = True)"
   ]
  },
  {
   "cell_type": "markdown",
   "id": "f0837c3a",
   "metadata": {
    "papermill": {
     "duration": 0.081187,
     "end_time": "2022-02-25T17:35:10.495840",
     "exception": false,
     "start_time": "2022-02-25T17:35:10.414653",
     "status": "completed"
    },
    "tags": []
   },
   "source": [
    "<font size=\"4\"> I will remove the 'GarageYrBlt' variable. Since it is difficult to impute date values correctly.</font>"
   ]
  },
  {
   "cell_type": "code",
   "execution_count": 25,
   "id": "3354a9f8",
   "metadata": {
    "execution": {
     "iopub.execute_input": "2022-02-25T17:35:10.662017Z",
     "iopub.status.busy": "2022-02-25T17:35:10.661337Z",
     "iopub.status.idle": "2022-02-25T17:35:10.665174Z",
     "shell.execute_reply": "2022-02-25T17:35:10.664640Z",
     "shell.execute_reply.started": "2022-02-06T04:08:05.598315Z"
    },
    "papermill": {
     "duration": 0.090186,
     "end_time": "2022-02-25T17:35:10.665327",
     "exception": false,
     "start_time": "2022-02-25T17:35:10.575141",
     "status": "completed"
    },
    "tags": []
   },
   "outputs": [],
   "source": [
    "train=train.drop(['GarageYrBlt'],1)\n",
    "test=test.drop(['GarageYrBlt'],1)"
   ]
  },
  {
   "cell_type": "code",
   "execution_count": 26,
   "id": "29c19896",
   "metadata": {
    "execution": {
     "iopub.execute_input": "2022-02-25T17:35:10.855517Z",
     "iopub.status.busy": "2022-02-25T17:35:10.854819Z",
     "iopub.status.idle": "2022-02-25T17:35:10.858114Z",
     "shell.execute_reply": "2022-02-25T17:35:10.857557Z",
     "shell.execute_reply.started": "2022-02-06T04:08:05.614193Z"
    },
    "papermill": {
     "duration": 0.115499,
     "end_time": "2022-02-25T17:35:10.858267",
     "exception": false,
     "start_time": "2022-02-25T17:35:10.742768",
     "status": "completed"
    },
    "tags": []
   },
   "outputs": [
    {
     "name": "stdout",
     "output_type": "stream",
     "text": [
      "No missing values in training set\n"
     ]
    }
   ],
   "source": [
    "features=[features for features in train.columns if train[features].isnull().sum()>1]\n",
    "if len(features)==0:\n",
    "    print(\"No missing values in training set\")"
   ]
  },
  {
   "cell_type": "code",
   "execution_count": 27,
   "id": "9a0b4839",
   "metadata": {
    "execution": {
     "iopub.execute_input": "2022-02-25T17:35:11.029715Z",
     "iopub.status.busy": "2022-02-25T17:35:11.027808Z",
     "iopub.status.idle": "2022-02-25T17:35:11.034098Z",
     "shell.execute_reply": "2022-02-25T17:35:11.033583Z",
     "shell.execute_reply.started": "2022-02-06T04:08:05.649146Z"
    },
    "papermill": {
     "duration": 0.096614,
     "end_time": "2022-02-25T17:35:11.034253",
     "exception": false,
     "start_time": "2022-02-25T17:35:10.937639",
     "status": "completed"
    },
    "tags": []
   },
   "outputs": [
    {
     "data": {
      "text/plain": [
       "Index(['MSZoning', 'Utilities', 'Exterior1st', 'Exterior2nd', 'BsmtFinSF1',\n",
       "       'BsmtFinSF2', 'BsmtUnfSF', 'TotalBsmtSF', 'BsmtFullBath',\n",
       "       'BsmtHalfBath', 'KitchenQual', 'Functional', 'GarageCars', 'GarageArea',\n",
       "       'SaleType'],\n",
       "      dtype='object')"
      ]
     },
     "execution_count": 27,
     "metadata": {},
     "output_type": "execute_result"
    }
   ],
   "source": [
    "test.columns[test.isnull().any()]"
   ]
  },
  {
   "cell_type": "markdown",
   "id": "5141fb1c",
   "metadata": {
    "papermill": {
     "duration": 0.078522,
     "end_time": "2022-02-25T17:35:11.192147",
     "exception": false,
     "start_time": "2022-02-25T17:35:11.113625",
     "status": "completed"
    },
    "tags": []
   },
   "source": [
    "<font size=\"4\"> There are variables containing missing values although there were not in training set. Here I impute them using train set values.</font>"
   ]
  },
  {
   "cell_type": "code",
   "execution_count": 28,
   "id": "d1d72171",
   "metadata": {
    "execution": {
     "iopub.execute_input": "2022-02-25T17:35:11.365260Z",
     "iopub.status.busy": "2022-02-25T17:35:11.364509Z",
     "iopub.status.idle": "2022-02-25T17:35:11.378099Z",
     "shell.execute_reply": "2022-02-25T17:35:11.378693Z",
     "shell.execute_reply.started": "2022-02-06T04:08:05.672144Z"
    },
    "papermill": {
     "duration": 0.105808,
     "end_time": "2022-02-25T17:35:11.378898",
     "exception": false,
     "start_time": "2022-02-25T17:35:11.273090",
     "status": "completed"
    },
    "tags": []
   },
   "outputs": [],
   "source": [
    "test['MSZoning']=test['MSZoning'].fillna(train['MSZoning'].mode()[0])\n",
    "test['Utilities']=test['Utilities'].fillna(train['Utilities'].mode()[0])\n",
    "test['Exterior1st']=test['Exterior1st'].fillna(train['Exterior1st'].mode()[0])\n",
    "test['Exterior2nd']=test['Exterior2nd'].fillna(train['Exterior2nd'].mode()[0])\n",
    "test['BsmtFinSF1']=test['BsmtFinSF1'].fillna(train['BsmtFinSF1'].mean())\n",
    "test['BsmtFinSF2']=test['BsmtFinSF2'].fillna(train['BsmtFinSF2'].mean())\n",
    "test['BsmtUnfSF']=test['BsmtUnfSF'].fillna(train['BsmtUnfSF'].mean())\n",
    "test['TotalBsmtSF']=test['TotalBsmtSF'].fillna(train['TotalBsmtSF'].mean())\n",
    "test['BsmtFullBath']=test['BsmtFullBath'].fillna(train['BsmtFullBath'].mean())\n",
    "test['KitchenQual']=test['KitchenQual'].fillna(train['KitchenQual'].mode()[0])\n",
    "test['Functional']=test['Functional'].fillna(train['Functional'].mode()[0])\n",
    "test['GarageCars']=test['GarageCars'].fillna(train['GarageCars'].mean())\n",
    "test['GarageArea']=test['GarageArea'].fillna(train['GarageArea'].mean())\n",
    "test['SaleType']=test['SaleType'].fillna(train['SaleType'].mode()[0])\n",
    "test['BsmtHalfBath']=test['BsmtHalfBath'].fillna(train['BsmtHalfBath'].mean())"
   ]
  },
  {
   "cell_type": "code",
   "execution_count": 29,
   "id": "a8af6e2a",
   "metadata": {
    "execution": {
     "iopub.execute_input": "2022-02-25T17:35:11.579346Z",
     "iopub.status.busy": "2022-02-25T17:35:11.546733Z",
     "iopub.status.idle": "2022-02-25T17:35:11.581920Z",
     "shell.execute_reply": "2022-02-25T17:35:11.582717Z",
     "shell.execute_reply.started": "2022-02-06T04:08:05.700214Z"
    },
    "papermill": {
     "duration": 0.121539,
     "end_time": "2022-02-25T17:35:11.582950",
     "exception": false,
     "start_time": "2022-02-25T17:35:11.461411",
     "status": "completed"
    },
    "tags": []
   },
   "outputs": [
    {
     "name": "stdout",
     "output_type": "stream",
     "text": [
      "No missing values in test set\n"
     ]
    }
   ],
   "source": [
    "features=[features for features in test.columns if test[features].isnull().sum()>1]\n",
    "if len(features)==0:\n",
    "    print(\"No missing values in test set\")\n",
    "else:\n",
    "    print(\"there are missing values in test set\")"
   ]
  },
  {
   "cell_type": "markdown",
   "id": "b0684f76",
   "metadata": {
    "papermill": {
     "duration": 0.080425,
     "end_time": "2022-02-25T17:35:11.744079",
     "exception": false,
     "start_time": "2022-02-25T17:35:11.663654",
     "status": "completed"
    },
    "tags": []
   },
   "source": [
    "<font size=\"4\">Missing values have been imputed with different techniques and the variables with more than 20 percent missing values have been removed. Now let's see how price varies with other variables. Here I will provide only the important plots and other details. </font>"
   ]
  },
  {
   "cell_type": "code",
   "execution_count": 30,
   "id": "595f0b23",
   "metadata": {
    "execution": {
     "iopub.execute_input": "2022-02-25T17:35:11.907172Z",
     "iopub.status.busy": "2022-02-25T17:35:11.906431Z",
     "iopub.status.idle": "2022-02-25T17:35:11.917341Z",
     "shell.execute_reply": "2022-02-25T17:35:11.917885Z",
     "shell.execute_reply.started": "2022-02-06T04:08:05.74846Z"
    },
    "papermill": {
     "duration": 0.094532,
     "end_time": "2022-02-25T17:35:11.918122",
     "exception": false,
     "start_time": "2022-02-25T17:35:11.823590",
     "status": "completed"
    },
    "tags": []
   },
   "outputs": [
    {
     "data": {
      "text/plain": [
       "count      1460.000000\n",
       "mean     180921.195890\n",
       "std       79442.502883\n",
       "min       34900.000000\n",
       "25%      129975.000000\n",
       "50%      163000.000000\n",
       "75%      214000.000000\n",
       "max      755000.000000\n",
       "Name: SalePrice, dtype: float64"
      ]
     },
     "execution_count": 30,
     "metadata": {},
     "output_type": "execute_result"
    }
   ],
   "source": [
    "# response variable\n",
    "train['SalePrice'].describe()"
   ]
  },
  {
   "cell_type": "code",
   "execution_count": 31,
   "id": "0e11d552",
   "metadata": {
    "execution": {
     "iopub.execute_input": "2022-02-25T17:35:12.083831Z",
     "iopub.status.busy": "2022-02-25T17:35:12.083091Z",
     "iopub.status.idle": "2022-02-25T17:35:12.450291Z",
     "shell.execute_reply": "2022-02-25T17:35:12.449565Z",
     "shell.execute_reply.started": "2022-02-06T04:08:05.767088Z"
    },
    "papermill": {
     "duration": 0.452151,
     "end_time": "2022-02-25T17:35:12.450435",
     "exception": false,
     "start_time": "2022-02-25T17:35:11.998284",
     "status": "completed"
    },
    "tags": []
   },
   "outputs": [
    {
     "data": {
      "image/png": "[encoded data removed]",
      "text/plain": [
       "<Figure size 432x288 with 1 Axes>"
      ]
     },
     "metadata": {
      "needs_background": "light"
     },
     "output_type": "display_data"
    }
   ],
   "source": [
    "sns.distplot(train['SalePrice']);"
   ]
  },
  {
   "cell_type": "code",
   "execution_count": 32,
   "id": "9b9a0c85",
   "metadata": {
    "execution": {
     "iopub.execute_input": "2022-02-25T17:35:12.617102Z",
     "iopub.status.busy": "2022-02-25T17:35:12.616355Z",
     "iopub.status.idle": "2022-02-25T17:35:12.885530Z",
     "shell.execute_reply": "2022-02-25T17:35:12.886097Z",
     "shell.execute_reply.started": "2022-02-06T04:08:06.133709Z"
    },
    "papermill": {
     "duration": 0.354239,
     "end_time": "2022-02-25T17:35:12.886282",
     "exception": false,
     "start_time": "2022-02-25T17:35:12.532043",
     "status": "completed"
    },
    "tags": []
   },
   "outputs": [
    {
     "data": {
      "image/png": "[encoded data removed]",
      "text/plain": [
       "<Figure size 432x288 with 1 Axes>"
      ]
     },
     "metadata": {
      "needs_background": "light"
     },
     "output_type": "display_data"
    }
   ],
   "source": [
    "#scatter plot saleprice vs \n",
    "data = pd.concat([train['SalePrice'], train['LotFrontage']], axis=1)\n",
    "data.plot.scatter(x='LotFrontage', y='SalePrice', ylim=(0,900000));"
   ]
  },
  {
   "cell_type": "code",
   "execution_count": 33,
   "id": "691d21e0",
   "metadata": {
    "execution": {
     "iopub.execute_input": "2022-02-25T17:35:13.054421Z",
     "iopub.status.busy": "2022-02-25T17:35:13.053683Z",
     "iopub.status.idle": "2022-02-25T17:35:13.313089Z",
     "shell.execute_reply": "2022-02-25T17:35:13.312440Z",
     "shell.execute_reply.started": "2022-02-06T04:08:06.404782Z"
    },
    "papermill": {
     "duration": 0.344849,
     "end_time": "2022-02-25T17:35:13.313250",
     "exception": false,
     "start_time": "2022-02-25T17:35:12.968401",
     "status": "completed"
    },
    "tags": []
   },
   "outputs": [
    {
     "data": {
      "image/png": "[encoded data removed]",
      "text/plain": [
       "<Figure size 432x288 with 1 Axes>"
      ]
     },
     "metadata": {
      "needs_background": "light"
     },
     "output_type": "display_data"
    }
   ],
   "source": [
    "#scatter plot saleprice vs GrLivArea\n",
    "data = pd.concat([train['SalePrice'], train['GrLivArea']], axis=1)\n",
    "data.plot.scatter(x='GrLivArea', y='SalePrice', ylim=(0,900000));"
   ]
  },
  {
   "cell_type": "code",
   "execution_count": 34,
   "id": "63a8df8f",
   "metadata": {
    "execution": {
     "iopub.execute_input": "2022-02-25T17:35:13.482860Z",
     "iopub.status.busy": "2022-02-25T17:35:13.482140Z",
     "iopub.status.idle": "2022-02-25T17:35:13.753329Z",
     "shell.execute_reply": "2022-02-25T17:35:13.752596Z",
     "shell.execute_reply.started": "2022-02-06T04:08:06.664203Z"
    },
    "papermill": {
     "duration": 0.356573,
     "end_time": "2022-02-25T17:35:13.753482",
     "exception": false,
     "start_time": "2022-02-25T17:35:13.396909",
     "status": "completed"
    },
    "tags": []
   },
   "outputs": [
    {
     "data": {
      "image/png": "[encoded data removed]",
      "text/plain": [
       "<Figure size 432x288 with 1 Axes>"
      ]
     },
     "metadata": {
      "needs_background": "light"
     },
     "output_type": "display_data"
    }
   ],
   "source": [
    "#scatter plot saleprice vs GrLivArea\n",
    "data = pd.concat([train['SalePrice'], train['TotalBsmtSF']], axis=1)\n",
    "data.plot.scatter(x='TotalBsmtSF', y='SalePrice', ylim=(0,900000));"
   ]
  },
  {
   "cell_type": "code",
   "execution_count": 35,
   "id": "6f3733e5",
   "metadata": {
    "execution": {
     "iopub.execute_input": "2022-02-25T17:35:13.934054Z",
     "iopub.status.busy": "2022-02-25T17:35:13.933078Z",
     "iopub.status.idle": "2022-02-25T17:35:14.323184Z",
     "shell.execute_reply": "2022-02-25T17:35:14.322580Z",
     "shell.execute_reply.started": "2022-02-06T04:08:06.942466Z"
    },
    "papermill": {
     "duration": 0.484727,
     "end_time": "2022-02-25T17:35:14.323326",
     "exception": false,
     "start_time": "2022-02-25T17:35:13.838599",
     "status": "completed"
    },
    "tags": []
   },
   "outputs": [
    {
     "data": {
      "image/png": "[encoded data removed]",
      "text/plain": [
       "<Figure size 576x432 with 1 Axes>"
      ]
     },
     "metadata": {
      "needs_background": "light"
     },
     "output_type": "display_data"
    }
   ],
   "source": [
    "data = pd.concat([train['SalePrice'], train['OverallQual']], axis=1)\n",
    "f, ax = plt.subplots(figsize=(8, 6))\n",
    "fig = sns.boxplot(x='OverallQual', y=\"SalePrice\", data=data)"
   ]
  },
  {
   "cell_type": "code",
   "execution_count": 36,
   "id": "02b29a22",
   "metadata": {
    "execution": {
     "iopub.execute_input": "2022-02-25T17:35:14.523226Z",
     "iopub.status.busy": "2022-02-25T17:35:14.521974Z",
     "iopub.status.idle": "2022-02-25T17:35:21.715332Z",
     "shell.execute_reply": "2022-02-25T17:35:21.715902Z",
     "shell.execute_reply.started": "2022-02-06T04:08:07.340321Z"
    },
    "papermill": {
     "duration": 7.308245,
     "end_time": "2022-02-25T17:35:21.716087",
     "exception": false,
     "start_time": "2022-02-25T17:35:14.407842",
     "status": "completed"
    },
    "tags": []
   },
   "outputs": [
    {
     "data": {
      "image/png": "[encoded data removed]",
      "text/plain": [
       "<Figure size 864x2160 with 39 Axes>"
      ]
     },
     "metadata": {
      "needs_background": "light"
     },
     "output_type": "display_data"
    }
   ],
   "source": [
    "fig, axes = plt.subplots(round(len(categorical_cols_train.columns) / 3), 3, figsize=(12, 30))\n",
    "\n",
    "for i, ax in enumerate(fig.axes):\n",
    "    if i < len(categorical_cols_train.columns):\n",
    "        ax.set_xticklabels(ax.xaxis.get_majorticklabels(), rotation=45)\n",
    "        sns.countplot(x=categorical_cols_train.columns[i], alpha=0.7, data=categorical_cols_train, ax=ax)\n",
    "\n",
    "fig.tight_layout()"
   ]
  },
  {
   "cell_type": "markdown",
   "id": "8b91ab93",
   "metadata": {
    "papermill": {
     "duration": 0.093629,
     "end_time": "2022-02-25T17:35:21.903931",
     "exception": false,
     "start_time": "2022-02-25T17:35:21.810302",
     "status": "completed"
    },
    "tags": []
   },
   "source": [
    "<font size=\"4\">we can see that in some variables some categories cannot be found in large numbers. Hence just one hot encoding may provide lot of variables which are not needed to the model. Hence we can try a different method rather than creating dummies for all categories.</font>"
   ]
  },
  {
   "cell_type": "code",
   "execution_count": 37,
   "id": "e2d59058",
   "metadata": {
    "execution": {
     "iopub.execute_input": "2022-02-25T17:35:22.099950Z",
     "iopub.status.busy": "2022-02-25T17:35:22.098894Z",
     "iopub.status.idle": "2022-02-25T17:35:22.131390Z",
     "shell.execute_reply": "2022-02-25T17:35:22.130654Z",
     "shell.execute_reply.started": "2022-02-06T04:08:14.44467Z"
    },
    "papermill": {
     "duration": 0.131392,
     "end_time": "2022-02-25T17:35:22.131534",
     "exception": false,
     "start_time": "2022-02-25T17:35:22.000142",
     "status": "completed"
    },
    "tags": []
   },
   "outputs": [
    {
     "name": "stdout",
     "output_type": "stream",
     "text": [
      "MSZoning : 5 labels\n",
      "Street : 2 labels\n",
      "LotShape : 4 labels\n",
      "LandContour : 4 labels\n",
      "Utilities : 2 labels\n",
      "LotConfig : 5 labels\n",
      "LandSlope : 3 labels\n",
      "Neighborhood : 25 labels\n",
      "Condition1 : 9 labels\n",
      "Condition2 : 8 labels\n",
      "BldgType : 5 labels\n",
      "HouseStyle : 8 labels\n",
      "RoofStyle : 6 labels\n",
      "RoofMatl : 8 labels\n",
      "Exterior1st : 15 labels\n",
      "Exterior2nd : 16 labels\n",
      "MasVnrType : 4 labels\n",
      "ExterQual : 4 labels\n",
      "ExterCond : 5 labels\n",
      "Foundation : 6 labels\n",
      "BsmtQual : 4 labels\n",
      "BsmtCond : 4 labels\n",
      "BsmtExposure : 4 labels\n",
      "BsmtFinType1 : 6 labels\n",
      "BsmtFinType2 : 6 labels\n",
      "Heating : 6 labels\n",
      "HeatingQC : 5 labels\n",
      "CentralAir : 2 labels\n",
      "Electrical : 5 labels\n",
      "KitchenQual : 4 labels\n",
      "Functional : 7 labels\n",
      "GarageType : 6 labels\n",
      "GarageFinish : 3 labels\n",
      "GarageQual : 5 labels\n",
      "GarageCond : 5 labels\n",
      "PavedDrive : 3 labels\n",
      "SaleType : 9 labels\n",
      "SaleCondition : 6 labels\n"
     ]
    }
   ],
   "source": [
    "for cols in categorical_cols_train.columns:\n",
    "    print(cols,':', len(categorical_cols_train[cols].unique()),'labels')"
   ]
  },
  {
   "cell_type": "markdown",
   "id": "911cdf2d",
   "metadata": {
    "papermill": {
     "duration": 0.092561,
     "end_time": "2022-02-25T17:35:22.317878",
     "exception": false,
     "start_time": "2022-02-25T17:35:22.225317",
     "status": "completed"
    },
    "tags": []
   },
   "source": [
    "<font size=\"4\">For some variables there are more than 10 categories and some of them contain very few observations. So here I am going to remove those variables and get the most frequent categories from those variables. This will reduce the dimensionality when creating dummy variables for categorical variables.</font>"
   ]
  },
  {
   "cell_type": "code",
   "execution_count": 38,
   "id": "a5374728",
   "metadata": {
    "execution": {
     "iopub.execute_input": "2022-02-25T17:35:22.507514Z",
     "iopub.status.busy": "2022-02-25T17:35:22.506878Z",
     "iopub.status.idle": "2022-02-25T17:35:22.514688Z",
     "shell.execute_reply": "2022-02-25T17:35:22.515309Z",
     "shell.execute_reply.started": "2022-02-06T04:08:14.489638Z"
    },
    "papermill": {
     "duration": 0.104554,
     "end_time": "2022-02-25T17:35:22.515495",
     "exception": false,
     "start_time": "2022-02-25T17:35:22.410941",
     "status": "completed"
    },
    "tags": []
   },
   "outputs": [
    {
     "data": {
      "text/plain": [
       "Norm      1260\n",
       "Feedr       81\n",
       "Artery      48\n",
       "RRAn        26\n",
       "PosN        19\n",
       "RRAe        11\n",
       "PosA         8\n",
       "RRNn         5\n",
       "RRNe         2\n",
       "Name: Condition1, dtype: int64"
      ]
     },
     "execution_count": 38,
     "metadata": {},
     "output_type": "execute_result"
    }
   ],
   "source": [
    "categorical_cols_train.Condition1.value_counts().sort_values(ascending=False)"
   ]
  },
  {
   "cell_type": "markdown",
   "id": "7a149dfb",
   "metadata": {
    "papermill": {
     "duration": 0.092656,
     "end_time": "2022-02-25T17:35:22.703780",
     "exception": false,
     "start_time": "2022-02-25T17:35:22.611124",
     "status": "completed"
    },
    "tags": []
   },
   "source": [
    "<font size=\"4\"> we can see that although there are 9 categories many of them do not conatain observations.So I will get only the most frequent four categories.</font>"
   ]
  },
  {
   "cell_type": "code",
   "execution_count": 39,
   "id": "b62c6c7e",
   "metadata": {
    "execution": {
     "iopub.execute_input": "2022-02-25T17:35:22.894719Z",
     "iopub.status.busy": "2022-02-25T17:35:22.893970Z",
     "iopub.status.idle": "2022-02-25T17:35:22.900861Z",
     "shell.execute_reply": "2022-02-25T17:35:22.901407Z",
     "shell.execute_reply.started": "2022-02-06T04:08:14.5011Z"
    },
    "papermill": {
     "duration": 0.103593,
     "end_time": "2022-02-25T17:35:22.901577",
     "exception": false,
     "start_time": "2022-02-25T17:35:22.797984",
     "status": "completed"
    },
    "tags": []
   },
   "outputs": [
    {
     "data": {
      "text/plain": [
       "['Norm', 'Feedr', 'Artery', 'RRAn']"
      ]
     },
     "execution_count": 39,
     "metadata": {},
     "output_type": "execute_result"
    }
   ],
   "source": [
    "freq_labels= [x for x in categorical_cols_train.Condition1.value_counts().sort_values(ascending=False).head(4).index]\n",
    "freq_labels"
   ]
  },
  {
   "cell_type": "code",
   "execution_count": 40,
   "id": "b813074c",
   "metadata": {
    "execution": {
     "iopub.execute_input": "2022-02-25T17:35:23.092470Z",
     "iopub.status.busy": "2022-02-25T17:35:23.091657Z",
     "iopub.status.idle": "2022-02-25T17:35:23.100049Z",
     "shell.execute_reply": "2022-02-25T17:35:23.100620Z",
     "shell.execute_reply.started": "2022-02-06T04:08:14.516274Z"
    },
    "papermill": {
     "duration": 0.104488,
     "end_time": "2022-02-25T17:35:23.100829",
     "exception": false,
     "start_time": "2022-02-25T17:35:22.996341",
     "status": "completed"
    },
    "tags": []
   },
   "outputs": [],
   "source": [
    "for label in freq_labels:\n",
    "    categorical_cols_train[label]= np.where(categorical_cols_train['Condition1']==label,1,0)"
   ]
  },
  {
   "cell_type": "code",
   "execution_count": 41,
   "id": "4c9bf3a6",
   "metadata": {
    "execution": {
     "iopub.execute_input": "2022-02-25T17:35:23.301018Z",
     "iopub.status.busy": "2022-02-25T17:35:23.300330Z",
     "iopub.status.idle": "2022-02-25T17:35:23.304195Z",
     "shell.execute_reply": "2022-02-25T17:35:23.303527Z",
     "shell.execute_reply.started": "2022-02-06T04:08:14.534976Z"
    },
    "papermill": {
     "duration": 0.10985,
     "end_time": "2022-02-25T17:35:23.304336",
     "exception": false,
     "start_time": "2022-02-25T17:35:23.194486",
     "status": "completed"
    },
    "tags": []
   },
   "outputs": [
    {
     "data": {
      "text/html": [
       "<div>\n",
       "<style scoped>\n",
       "    .dataframe tbody tr th:only-of-type {\n",
       "        vertical-align: middle;\n",
       "    }\n",
       "\n",
       "    .dataframe tbody tr th {\n",
       "        vertical-align: top;\n",
       "    }\n",
       "\n",
       "    .dataframe thead th {\n",
       "        text-align: right;\n",
       "    }\n",
       "</style>\n",
       "<table border=\"1\" class=\"dataframe\">\n",
       "  <thead>\n",
       "    <tr style=\"text-align: right;\">\n",
       "      <th></th>\n",
       "      <th>Condition1</th>\n",
       "      <th>Norm</th>\n",
       "      <th>Feedr</th>\n",
       "      <th>Artery</th>\n",
       "      <th>RRAn</th>\n",
       "    </tr>\n",
       "  </thead>\n",
       "  <tbody>\n",
       "    <tr>\n",
       "      <th>0</th>\n",
       "      <td>Norm</td>\n",
       "      <td>1</td>\n",
       "      <td>0</td>\n",
       "      <td>0</td>\n",
       "      <td>0</td>\n",
       "    </tr>\n",
       "    <tr>\n",
       "      <th>1</th>\n",
       "      <td>Feedr</td>\n",
       "      <td>0</td>\n",
       "      <td>1</td>\n",
       "      <td>0</td>\n",
       "      <td>0</td>\n",
       "    </tr>\n",
       "    <tr>\n",
       "      <th>2</th>\n",
       "      <td>Norm</td>\n",
       "      <td>1</td>\n",
       "      <td>0</td>\n",
       "      <td>0</td>\n",
       "      <td>0</td>\n",
       "    </tr>\n",
       "    <tr>\n",
       "      <th>3</th>\n",
       "      <td>Norm</td>\n",
       "      <td>1</td>\n",
       "      <td>0</td>\n",
       "      <td>0</td>\n",
       "      <td>0</td>\n",
       "    </tr>\n",
       "    <tr>\n",
       "      <th>4</th>\n",
       "      <td>Norm</td>\n",
       "      <td>1</td>\n",
       "      <td>0</td>\n",
       "      <td>0</td>\n",
       "      <td>0</td>\n",
       "    </tr>\n",
       "    <tr>\n",
       "      <th>5</th>\n",
       "      <td>Norm</td>\n",
       "      <td>1</td>\n",
       "      <td>0</td>\n",
       "      <td>0</td>\n",
       "      <td>0</td>\n",
       "    </tr>\n",
       "    <tr>\n",
       "      <th>6</th>\n",
       "      <td>Norm</td>\n",
       "      <td>1</td>\n",
       "      <td>0</td>\n",
       "      <td>0</td>\n",
       "      <td>0</td>\n",
       "    </tr>\n",
       "    <tr>\n",
       "      <th>7</th>\n",
       "      <td>PosN</td>\n",
       "      <td>0</td>\n",
       "      <td>0</td>\n",
       "      <td>0</td>\n",
       "      <td>0</td>\n",
       "    </tr>\n",
       "    <tr>\n",
       "      <th>8</th>\n",
       "      <td>Artery</td>\n",
       "      <td>0</td>\n",
       "      <td>0</td>\n",
       "      <td>1</td>\n",
       "      <td>0</td>\n",
       "    </tr>\n",
       "    <tr>\n",
       "      <th>9</th>\n",
       "      <td>Artery</td>\n",
       "      <td>0</td>\n",
       "      <td>0</td>\n",
       "      <td>1</td>\n",
       "      <td>0</td>\n",
       "    </tr>\n",
       "  </tbody>\n",
       "</table>\n",
       "</div>"
      ],
      "text/plain": [
       "  Condition1  Norm  Feedr  Artery  RRAn\n",
       "0       Norm     1      0       0     0\n",
       "1      Feedr     0      1       0     0\n",
       "2       Norm     1      0       0     0\n",
       "3       Norm     1      0       0     0\n",
       "4       Norm     1      0       0     0\n",
       "5       Norm     1      0       0     0\n",
       "6       Norm     1      0       0     0\n",
       "7       PosN     0      0       0     0\n",
       "8     Artery     0      0       1     0\n",
       "9     Artery     0      0       1     0"
      ]
     },
     "execution_count": 41,
     "metadata": {},
     "output_type": "execute_result"
    }
   ],
   "source": [
    "categorical_cols_train[['Condition1']+freq_labels].head(10)"
   ]
  },
  {
   "cell_type": "code",
   "execution_count": 42,
   "id": "27032e04",
   "metadata": {
    "execution": {
     "iopub.execute_input": "2022-02-25T17:35:23.498367Z",
     "iopub.status.busy": "2022-02-25T17:35:23.497621Z",
     "iopub.status.idle": "2022-02-25T17:35:23.500653Z",
     "shell.execute_reply": "2022-02-25T17:35:23.500031Z",
     "shell.execute_reply.started": "2022-02-06T04:08:14.551285Z"
    },
    "papermill": {
     "duration": 0.102816,
     "end_time": "2022-02-25T17:35:23.500845",
     "exception": false,
     "start_time": "2022-02-25T17:35:23.398029",
     "status": "completed"
    },
    "tags": []
   },
   "outputs": [],
   "source": [
    "def one_hot_freq_labels(data,variable,freq_labels):\n",
    "    for label in freq_labels:\n",
    "        data[variable+'_'+label]= np.where(data[variable]==label,1,0)"
   ]
  },
  {
   "cell_type": "code",
   "execution_count": 43,
   "id": "07d0e2d9",
   "metadata": {
    "execution": {
     "iopub.execute_input": "2022-02-25T17:35:23.706474Z",
     "iopub.status.busy": "2022-02-25T17:35:23.705760Z",
     "iopub.status.idle": "2022-02-25T17:35:23.759890Z",
     "shell.execute_reply": "2022-02-25T17:35:23.759293Z",
     "shell.execute_reply.started": "2022-02-06T04:08:14.559405Z"
    },
    "papermill": {
     "duration": 0.162552,
     "end_time": "2022-02-25T17:35:23.760049",
     "exception": false,
     "start_time": "2022-02-25T17:35:23.597497",
     "status": "completed"
    },
    "tags": []
   },
   "outputs": [],
   "source": [
    "# the categories have been selected manually according to their frequencies\n",
    "\n",
    "freq_labels_Condition1=[x for x in categorical_cols_train.Condition1.value_counts().sort_values(ascending=False).head(4).index]\n",
    "freq_labels_Exterior2nd= [x for x in categorical_cols_train.Exterior2nd.value_counts().sort_values(ascending=False).head(5).index]\n",
    "freq_labels_Condition2=[x for x in categorical_cols_train.Condition2.value_counts().sort_values(ascending=False).head(2).index]\n",
    "freq_labels_HouseStyle =[x for x in categorical_cols_train.HouseStyle .value_counts().sort_values(ascending=False).head(4).index]\n",
    "freq_labels_RoofStyle =[x for x in categorical_cols_train.RoofStyle.value_counts().sort_values(ascending=False).head(2).index]\n",
    "freq_labels_RoofMatl  =[x for x in categorical_cols_train.RoofMatl.value_counts().sort_values(ascending=False).head(2).index]\n",
    "freq_labels_Exterior1st =[x for x in categorical_cols_train.Exterior1st.value_counts().sort_values(ascending=False).head(5).index]\n",
    "freq_labels_MasVnrType =[x for x in categorical_cols_train.MasVnrType.value_counts().sort_values(ascending=False).head(3).index]\n",
    "\n",
    "freq_labels_ExterQual =[x for x in categorical_cols_train.ExterQual.value_counts().sort_values(ascending=False).head(3).index]\n",
    "freq_labels_ExterCond =[x for x in categorical_cols_train.ExterCond.value_counts().sort_values(ascending=False).head(3).index]\n",
    "freq_labels_Foundation =[x for x in categorical_cols_train.Foundation.value_counts().sort_values(ascending=False).head(3).index]\n",
    "freq_labels_BsmtQual =[x for x in categorical_cols_train.BsmtQual.value_counts().sort_values(ascending=False).head(4).index]\n",
    "freq_labels_BsmtCond =[x for x in categorical_cols_train.BsmtCond.value_counts().sort_values(ascending=False).head(3).index]\n",
    "freq_labels_BsmtExposure =[x for x in categorical_cols_train.BsmtExposure.value_counts().sort_values(ascending=False).head(3).index]\n",
    "freq_labels_BsmtFinType1=[x for x in categorical_cols_train.BsmtFinType1.value_counts().sort_values(ascending=False).head(6).index]\n",
    "\n",
    "freq_labels_BsmtFinType2 =[x for x in categorical_cols_train.BsmtFinType2.value_counts().sort_values(ascending=False).head(2).index]\n",
    "freq_labels_Heating =[x for x in categorical_cols_train.Heating.value_counts().sort_values(ascending=False).head(1).index]\n",
    "freq_labels_HeatingQC =[x for x in categorical_cols_train.HeatingQC.value_counts().sort_values(ascending=False).head(3).index]\n",
    "freq_labels_CentralAir =[x for x in categorical_cols_train.BsmtExposure.value_counts().sort_values(ascending=False).head(1).index]\n",
    "freq_labels_Electrical=[x for x in categorical_cols_train.BsmtFinType1.value_counts().sort_values(ascending=False).head(2).index]\n",
    "freq_labels_KitchenQual=[x for x in categorical_cols_train.KitchenQual.value_counts().sort_values(ascending=False).head(3).index]\n",
    "freq_labels_Functional =[x for x in categorical_cols_train.Functional.value_counts().sort_values(ascending=False).head(2).index]\n",
    "\n",
    "freq_labels_GarageType =[x for x in categorical_cols_train.GarageType.value_counts().sort_values(ascending=False).head(3).index]\n",
    "freq_labels_GarageFinish =[x for x in categorical_cols_train.GarageFinish.value_counts().sort_values(ascending=False).head(3).index]\n",
    "freq_labels_GarageQual=[x for x in categorical_cols_train.GarageQual.value_counts().sort_values(ascending=False).head(2).index]\n",
    "freq_labels_GarageCond=[x for x in categorical_cols_train.GarageCond.value_counts().sort_values(ascending=False).head(2).index]\n",
    "freq_labels_PavedDrive =[x for x in categorical_cols_train.PavedDrive.value_counts().sort_values(ascending=False).head(2).index]\n",
    "freq_labels_SaleType =[x for x in categorical_cols_train.SaleType.value_counts().sort_values(ascending=False).head(3).index]\n",
    "freq_labels_SaleCondition =[x for x in categorical_cols_train.SaleCondition.value_counts().sort_values(ascending=False).head(3).index]\n",
    "\n",
    "freq_labels_MSZoning =[x for x in categorical_cols_train.MSZoning.value_counts().sort_values(ascending=False).head(3).index]\n",
    "freq_labels_Street =[x for x in categorical_cols_train.Street.value_counts().sort_values(ascending=False).head(1).index]\n",
    "freq_labels_LotShape=[x for x in categorical_cols_train.LotShape.value_counts().sort_values(ascending=False).head(3).index]\n",
    "freq_labels_LandContour=[x for x in categorical_cols_train.LandContour.value_counts().sort_values(ascending=False).head(2).index]\n",
    "freq_labels_Utilities =[x for x in categorical_cols_train.Utilities.value_counts().sort_values(ascending=False).head(1).index]\n",
    "freq_labels_LotConfig =[x for x in categorical_cols_train.LotConfig.value_counts().sort_values(ascending=False).head(3).index]\n",
    "freq_labels_LandSlope =[x for x in categorical_cols_train.LandSlope.value_counts().sort_values(ascending=False).head(2).index]\n",
    "freq_labels_BldgType=[x for x in categorical_cols_train.BldgType.value_counts().sort_values(ascending=False).head(3).index]\n",
    "\n"
   ]
  },
  {
   "cell_type": "markdown",
   "id": "e47a8a51",
   "metadata": {
    "papermill": {
     "duration": 0.094866,
     "end_time": "2022-02-25T17:35:23.948612",
     "exception": false,
     "start_time": "2022-02-25T17:35:23.853746",
     "status": "completed"
    },
    "tags": []
   },
   "source": [
    "<font size=\"4\"> Now I will combine test and train sets before creating dummy varaibles since there may be differences in columns if that was done seperately. </font>"
   ]
  },
  {
   "cell_type": "code",
   "execution_count": 44,
   "id": "1e489a20",
   "metadata": {
    "execution": {
     "iopub.execute_input": "2022-02-25T17:35:24.141852Z",
     "iopub.status.busy": "2022-02-25T17:35:24.140816Z",
     "iopub.status.idle": "2022-02-25T17:35:24.158206Z",
     "shell.execute_reply": "2022-02-25T17:35:24.158779Z",
     "shell.execute_reply.started": "2022-02-06T04:08:14.632904Z"
    },
    "papermill": {
     "duration": 0.115621,
     "end_time": "2022-02-25T17:35:24.158960",
     "exception": false,
     "start_time": "2022-02-25T17:35:24.043339",
     "status": "completed"
    },
    "tags": []
   },
   "outputs": [],
   "source": [
    "df=pd.concat([train,test],axis=0)"
   ]
  },
  {
   "cell_type": "code",
   "execution_count": 45,
   "id": "8f1aae3a",
   "metadata": {
    "execution": {
     "iopub.execute_input": "2022-02-25T17:35:24.350376Z",
     "iopub.status.busy": "2022-02-25T17:35:24.349318Z",
     "iopub.status.idle": "2022-02-25T17:35:24.453321Z",
     "shell.execute_reply": "2022-02-25T17:35:24.452756Z",
     "shell.execute_reply.started": "2022-02-06T04:08:14.656412Z"
    },
    "papermill": {
     "duration": 0.200697,
     "end_time": "2022-02-25T17:35:24.453477",
     "exception": false,
     "start_time": "2022-02-25T17:35:24.252780",
     "status": "completed"
    },
    "tags": []
   },
   "outputs": [],
   "source": [
    "one_hot_freq_labels(df,'Exterior2nd',freq_labels_Exterior2nd)\n",
    "one_hot_freq_labels(df,'Condition1',freq_labels_Condition1)\n",
    "one_hot_freq_labels(df,'Condition2',freq_labels_Condition2)\n",
    "one_hot_freq_labels(df,'HouseStyle',freq_labels_HouseStyle)\n",
    "one_hot_freq_labels(df,'RoofStyle',freq_labels_RoofStyle)\n",
    "one_hot_freq_labels(df,'RoofMatl',freq_labels_RoofMatl )\n",
    "one_hot_freq_labels(df,'Exterior1st',freq_labels_Exterior1st)\n",
    "one_hot_freq_labels(df,'MasVnrType',freq_labels_MasVnrType)\n",
    "one_hot_freq_labels(df,'ExterQual',freq_labels_ExterQual)\n",
    "one_hot_freq_labels(df,'ExterCond',freq_labels_ExterCond )\n",
    "one_hot_freq_labels(df,'Foundation',freq_labels_Foundation)\n",
    "one_hot_freq_labels(df,'BsmtQual',freq_labels_BsmtQual)\n",
    "one_hot_freq_labels(df,'BsmtCond',freq_labels_BsmtCond)\n",
    "one_hot_freq_labels(df,'BsmtExposure',freq_labels_BsmtExposure)\n",
    "one_hot_freq_labels(df,'BsmtFinType1',freq_labels_BsmtFinType1)\n",
    "one_hot_freq_labels(df,'BsmtFinType2',freq_labels_BsmtFinType2 )\n",
    "one_hot_freq_labels(df,'Heating',freq_labels_Heating)\n",
    "one_hot_freq_labels(df,'HeatingQC',freq_labels_HeatingQC)\n",
    "one_hot_freq_labels(df,'CentralAir',freq_labels_CentralAir)\n",
    "one_hot_freq_labels(df,'Electrical',freq_labels_Electrical)\n",
    "one_hot_freq_labels(df,'KitchenQual',freq_labels_KitchenQual)\n",
    "one_hot_freq_labels(df,'Functional',freq_labels_Functional)\n",
    "one_hot_freq_labels(df,'GarageType',freq_labels_GarageType)\n",
    "one_hot_freq_labels(df,'GarageFinish',freq_labels_GarageFinish)\n",
    "one_hot_freq_labels(df,'GarageQual',freq_labels_GarageQual)\n",
    "one_hot_freq_labels(df,'GarageCond',freq_labels_GarageCond)\n",
    "one_hot_freq_labels(df,'PavedDrive',freq_labels_PavedDrive)\n",
    "one_hot_freq_labels(df,'SaleType',freq_labels_SaleType)\n",
    "one_hot_freq_labels(df,'SaleCondition',freq_labels_SaleCondition)"
   ]
  },
  {
   "cell_type": "code",
   "execution_count": 46,
   "id": "32a4c4d9",
   "metadata": {
    "execution": {
     "iopub.execute_input": "2022-02-25T17:35:24.658286Z",
     "iopub.status.busy": "2022-02-25T17:35:24.657170Z",
     "iopub.status.idle": "2022-02-25T17:35:25.504284Z",
     "shell.execute_reply": "2022-02-25T17:35:25.504831Z",
     "shell.execute_reply.started": "2022-02-06T04:08:14.772778Z"
    },
    "papermill": {
     "duration": 0.956315,
     "end_time": "2022-02-25T17:35:25.505007",
     "exception": false,
     "start_time": "2022-02-25T17:35:24.548692",
     "status": "completed"
    },
    "tags": []
   },
   "outputs": [
    {
     "data": {
      "image/png": "[encoded data removed]",
      "text/plain": [
       "<Figure size 1800x1080 with 1 Axes>"
      ]
     },
     "metadata": {
      "needs_background": "light"
     },
     "output_type": "display_data"
    }
   ],
   "source": [
    "data = pd.concat([train['SalePrice'], train['Neighborhood']], axis=1)\n",
    "f, ax = plt.subplots(figsize=(25, 15))\n",
    "fig = sns.boxplot(x='Neighborhood', y=\"SalePrice\", data=data)"
   ]
  },
  {
   "cell_type": "markdown",
   "id": "8cd8ce0b",
   "metadata": {
    "papermill": {
     "duration": 0.099941,
     "end_time": "2022-02-25T17:35:25.702209",
     "exception": false,
     "start_time": "2022-02-25T17:35:25.602268",
     "status": "completed"
    },
    "tags": []
   },
   "source": [
    "<font size=\"4\"> Since there is a price variation among neighborhoods. I will create dummies for most frequent 10 neighborhoods. other than this method we can use probability values instead of this.</font>"
   ]
  },
  {
   "cell_type": "code",
   "execution_count": 47,
   "id": "20428c9d",
   "metadata": {
    "execution": {
     "iopub.execute_input": "2022-02-25T17:35:25.905100Z",
     "iopub.status.busy": "2022-02-25T17:35:25.904394Z",
     "iopub.status.idle": "2022-02-25T17:35:25.914951Z",
     "shell.execute_reply": "2022-02-25T17:35:25.915477Z",
     "shell.execute_reply.started": "2022-02-06T04:08:15.584383Z"
    },
    "papermill": {
     "duration": 0.116167,
     "end_time": "2022-02-25T17:35:25.915676",
     "exception": false,
     "start_time": "2022-02-25T17:35:25.799509",
     "status": "completed"
    },
    "tags": []
   },
   "outputs": [],
   "source": [
    "freq_labels_Neighborhood =[x for x in categorical_cols_train.Neighborhood.value_counts().sort_values(ascending=False).head(8).index]\n",
    "freq_labels_Neighborhood\n",
    "one_hot_freq_labels(df,'Neighborhood',freq_labels_Neighborhood)\n"
   ]
  },
  {
   "cell_type": "markdown",
   "id": "532bb55f",
   "metadata": {
    "papermill": {
     "duration": 0.094302,
     "end_time": "2022-02-25T17:35:26.105408",
     "exception": false,
     "start_time": "2022-02-25T17:35:26.011106",
     "status": "completed"
    },
    "tags": []
   },
   "source": [
    "<font size=\"4\"> Now we can remove the original categorical variables from the dataframe.</font>"
   ]
  },
  {
   "cell_type": "code",
   "execution_count": 48,
   "id": "53c06f50",
   "metadata": {
    "execution": {
     "iopub.execute_input": "2022-02-25T17:35:26.306387Z",
     "iopub.status.busy": "2022-02-25T17:35:26.304807Z",
     "iopub.status.idle": "2022-02-25T17:35:26.314081Z",
     "shell.execute_reply": "2022-02-25T17:35:26.314555Z",
     "shell.execute_reply.started": "2022-02-06T04:08:15.60476Z"
    },
    "papermill": {
     "duration": 0.11213,
     "end_time": "2022-02-25T17:35:26.314762",
     "exception": false,
     "start_time": "2022-02-25T17:35:26.202632",
     "status": "completed"
    },
    "tags": []
   },
   "outputs": [],
   "source": [
    "df=df.drop(['MSZoning', 'Street', 'LotShape', 'LandContour', 'Utilities',\n",
    "       'LotConfig', 'LandSlope', 'Neighborhood', 'Condition1', 'Condition2',\n",
    "       'BldgType', 'HouseStyle', 'RoofStyle', 'RoofMatl', 'Exterior1st',\n",
    "       'Exterior2nd', 'MasVnrType', 'ExterQual', 'ExterCond', 'Foundation',\n",
    "       'BsmtQual', 'BsmtCond', 'BsmtExposure', 'BsmtFinType1', 'BsmtFinType2',\n",
    "       'Heating', 'HeatingQC', 'CentralAir', 'Electrical', 'KitchenQual',\n",
    "       'Functional', 'GarageType', 'GarageFinish', 'GarageQual', 'GarageCond',\n",
    "       'PavedDrive', 'SaleType', 'SaleCondition'],1)"
   ]
  },
  {
   "cell_type": "code",
   "execution_count": 49,
   "id": "539347b4",
   "metadata": {
    "execution": {
     "iopub.execute_input": "2022-02-25T17:35:26.512576Z",
     "iopub.status.busy": "2022-02-25T17:35:26.511474Z",
     "iopub.status.idle": "2022-02-25T17:35:26.517816Z",
     "shell.execute_reply": "2022-02-25T17:35:26.517140Z",
     "shell.execute_reply.started": "2022-02-06T04:08:15.630291Z"
    },
    "papermill": {
     "duration": 0.107026,
     "end_time": "2022-02-25T17:35:26.517962",
     "exception": false,
     "start_time": "2022-02-25T17:35:26.410936",
     "status": "completed"
    },
    "tags": []
   },
   "outputs": [
    {
     "data": {
      "text/plain": [
       "(2919, 128)"
      ]
     },
     "execution_count": 49,
     "metadata": {},
     "output_type": "execute_result"
    }
   ],
   "source": [
    "df.shape"
   ]
  },
  {
   "cell_type": "code",
   "execution_count": 50,
   "id": "4b8ad6e2",
   "metadata": {
    "execution": {
     "iopub.execute_input": "2022-02-25T17:35:26.726323Z",
     "iopub.status.busy": "2022-02-25T17:35:26.725265Z",
     "iopub.status.idle": "2022-02-25T17:35:26.737810Z",
     "shell.execute_reply": "2022-02-25T17:35:26.738441Z",
     "shell.execute_reply.started": "2022-02-06T04:08:15.638489Z"
    },
    "papermill": {
     "duration": 0.123233,
     "end_time": "2022-02-25T17:35:26.738634",
     "exception": false,
     "start_time": "2022-02-25T17:35:26.615401",
     "status": "completed"
    },
    "tags": []
   },
   "outputs": [
    {
     "data": {
      "text/html": [
       "<div>\n",
       "<style scoped>\n",
       "    .dataframe tbody tr th:only-of-type {\n",
       "        vertical-align: middle;\n",
       "    }\n",
       "\n",
       "    .dataframe tbody tr th {\n",
       "        vertical-align: top;\n",
       "    }\n",
       "\n",
       "    .dataframe thead th {\n",
       "        text-align: right;\n",
       "    }\n",
       "</style>\n",
       "<table border=\"1\" class=\"dataframe\">\n",
       "  <thead>\n",
       "    <tr style=\"text-align: right;\">\n",
       "      <th></th>\n",
       "      <th>MSSubClass</th>\n",
       "      <th>LotFrontage</th>\n",
       "      <th>LotArea</th>\n",
       "      <th>OverallQual</th>\n",
       "      <th>OverallCond</th>\n",
       "      <th>YearBuilt</th>\n",
       "      <th>YearRemodAdd</th>\n",
       "      <th>MasVnrArea</th>\n",
       "      <th>BsmtFinSF1</th>\n",
       "      <th>BsmtFinSF2</th>\n",
       "      <th>...</th>\n",
       "      <th>SaleCondition_Partial</th>\n",
       "      <th>SaleCondition_Abnorml</th>\n",
       "      <th>Neighborhood_NAmes</th>\n",
       "      <th>Neighborhood_CollgCr</th>\n",
       "      <th>Neighborhood_OldTown</th>\n",
       "      <th>Neighborhood_Edwards</th>\n",
       "      <th>Neighborhood_Somerst</th>\n",
       "      <th>Neighborhood_Gilbert</th>\n",
       "      <th>Neighborhood_NridgHt</th>\n",
       "      <th>Neighborhood_Sawyer</th>\n",
       "    </tr>\n",
       "  </thead>\n",
       "  <tbody>\n",
       "    <tr>\n",
       "      <th>0</th>\n",
       "      <td>60</td>\n",
       "      <td>65.0</td>\n",
       "      <td>8450</td>\n",
       "      <td>7</td>\n",
       "      <td>5</td>\n",
       "      <td>2003</td>\n",
       "      <td>2003</td>\n",
       "      <td>196.0</td>\n",
       "      <td>706.0</td>\n",
       "      <td>0.0</td>\n",
       "      <td>...</td>\n",
       "      <td>0</td>\n",
       "      <td>0</td>\n",
       "      <td>0</td>\n",
       "      <td>1</td>\n",
       "      <td>0</td>\n",
       "      <td>0</td>\n",
       "      <td>0</td>\n",
       "      <td>0</td>\n",
       "      <td>0</td>\n",
       "      <td>0</td>\n",
       "    </tr>\n",
       "    <tr>\n",
       "      <th>1</th>\n",
       "      <td>20</td>\n",
       "      <td>80.0</td>\n",
       "      <td>9600</td>\n",
       "      <td>6</td>\n",
       "      <td>8</td>\n",
       "      <td>1976</td>\n",
       "      <td>1976</td>\n",
       "      <td>0.0</td>\n",
       "      <td>978.0</td>\n",
       "      <td>0.0</td>\n",
       "      <td>...</td>\n",
       "      <td>0</td>\n",
       "      <td>0</td>\n",
       "      <td>0</td>\n",
       "      <td>0</td>\n",
       "      <td>0</td>\n",
       "      <td>0</td>\n",
       "      <td>0</td>\n",
       "      <td>0</td>\n",
       "      <td>0</td>\n",
       "      <td>0</td>\n",
       "    </tr>\n",
       "    <tr>\n",
       "      <th>2</th>\n",
       "      <td>60</td>\n",
       "      <td>68.0</td>\n",
       "      <td>11250</td>\n",
       "      <td>7</td>\n",
       "      <td>5</td>\n",
       "      <td>2001</td>\n",
       "      <td>2002</td>\n",
       "      <td>162.0</td>\n",
       "      <td>486.0</td>\n",
       "      <td>0.0</td>\n",
       "      <td>...</td>\n",
       "      <td>0</td>\n",
       "      <td>0</td>\n",
       "      <td>0</td>\n",
       "      <td>1</td>\n",
       "      <td>0</td>\n",
       "      <td>0</td>\n",
       "      <td>0</td>\n",
       "      <td>0</td>\n",
       "      <td>0</td>\n",
       "      <td>0</td>\n",
       "    </tr>\n",
       "    <tr>\n",
       "      <th>3</th>\n",
       "      <td>70</td>\n",
       "      <td>60.0</td>\n",
       "      <td>9550</td>\n",
       "      <td>7</td>\n",
       "      <td>5</td>\n",
       "      <td>1915</td>\n",
       "      <td>1970</td>\n",
       "      <td>0.0</td>\n",
       "      <td>216.0</td>\n",
       "      <td>0.0</td>\n",
       "      <td>...</td>\n",
       "      <td>0</td>\n",
       "      <td>1</td>\n",
       "      <td>0</td>\n",
       "      <td>0</td>\n",
       "      <td>0</td>\n",
       "      <td>0</td>\n",
       "      <td>0</td>\n",
       "      <td>0</td>\n",
       "      <td>0</td>\n",
       "      <td>0</td>\n",
       "    </tr>\n",
       "    <tr>\n",
       "      <th>4</th>\n",
       "      <td>60</td>\n",
       "      <td>84.0</td>\n",
       "      <td>14260</td>\n",
       "      <td>8</td>\n",
       "      <td>5</td>\n",
       "      <td>2000</td>\n",
       "      <td>2000</td>\n",
       "      <td>350.0</td>\n",
       "      <td>655.0</td>\n",
       "      <td>0.0</td>\n",
       "      <td>...</td>\n",
       "      <td>0</td>\n",
       "      <td>0</td>\n",
       "      <td>0</td>\n",
       "      <td>0</td>\n",
       "      <td>0</td>\n",
       "      <td>0</td>\n",
       "      <td>0</td>\n",
       "      <td>0</td>\n",
       "      <td>0</td>\n",
       "      <td>0</td>\n",
       "    </tr>\n",
       "  </tbody>\n",
       "</table>\n",
       "<p>5 rows × 128 columns</p>\n",
       "</div>"
      ],
      "text/plain": [
       "   MSSubClass  LotFrontage  LotArea  OverallQual  OverallCond  YearBuilt  \\\n",
       "0          60         65.0     8450            7            5       2003   \n",
       "1          20         80.0     9600            6            8       1976   \n",
       "2          60         68.0    11250            7            5       2001   \n",
       "3          70         60.0     9550            7            5       1915   \n",
       "4          60         84.0    14260            8            5       2000   \n",
       "\n",
       "   YearRemodAdd  MasVnrArea  BsmtFinSF1  BsmtFinSF2  ...  \\\n",
       "0          2003       196.0       706.0         0.0  ...   \n",
       "1          1976         0.0       978.0         0.0  ...   \n",
       "2          2002       162.0       486.0         0.0  ...   \n",
       "3          1970         0.0       216.0         0.0  ...   \n",
       "4          2000       350.0       655.0         0.0  ...   \n",
       "\n",
       "   SaleCondition_Partial  SaleCondition_Abnorml  Neighborhood_NAmes  \\\n",
       "0                      0                      0                   0   \n",
       "1                      0                      0                   0   \n",
       "2                      0                      0                   0   \n",
       "3                      0                      1                   0   \n",
       "4                      0                      0                   0   \n",
       "\n",
       "   Neighborhood_CollgCr  Neighborhood_OldTown  Neighborhood_Edwards  \\\n",
       "0                     1                     0                     0   \n",
       "1                     0                     0                     0   \n",
       "2                     1                     0                     0   \n",
       "3                     0                     0                     0   \n",
       "4                     0                     0                     0   \n",
       "\n",
       "   Neighborhood_Somerst  Neighborhood_Gilbert  Neighborhood_NridgHt  \\\n",
       "0                     0                     0                     0   \n",
       "1                     0                     0                     0   \n",
       "2                     0                     0                     0   \n",
       "3                     0                     0                     0   \n",
       "4                     0                     0                     0   \n",
       "\n",
       "   Neighborhood_Sawyer  \n",
       "0                    0  \n",
       "1                    0  \n",
       "2                    0  \n",
       "3                    0  \n",
       "4                    0  \n",
       "\n",
       "[5 rows x 128 columns]"
      ]
     },
     "execution_count": 50,
     "metadata": {},
     "output_type": "execute_result"
    }
   ],
   "source": [
    "df.head()"
   ]
  },
  {
   "cell_type": "code",
   "execution_count": 51,
   "id": "0bc99b67",
   "metadata": {
    "execution": {
     "iopub.execute_input": "2022-02-25T17:35:26.947039Z",
     "iopub.status.busy": "2022-02-25T17:35:26.943275Z",
     "iopub.status.idle": "2022-02-25T17:35:26.951769Z",
     "shell.execute_reply": "2022-02-25T17:35:26.952362Z",
     "shell.execute_reply.started": "2022-02-06T04:08:15.670932Z"
    },
    "papermill": {
     "duration": 0.116194,
     "end_time": "2022-02-25T17:35:26.952543",
     "exception": false,
     "start_time": "2022-02-25T17:35:26.836349",
     "status": "completed"
    },
    "tags": []
   },
   "outputs": [
    {
     "data": {
      "text/plain": [
       "1459"
      ]
     },
     "execution_count": 51,
     "metadata": {},
     "output_type": "execute_result"
    }
   ],
   "source": [
    "df['SalePrice'].isnull().sum()"
   ]
  },
  {
   "cell_type": "code",
   "execution_count": 52,
   "id": "65026561",
   "metadata": {
    "execution": {
     "iopub.execute_input": "2022-02-25T17:35:27.152394Z",
     "iopub.status.busy": "2022-02-25T17:35:27.151672Z",
     "iopub.status.idle": "2022-02-25T17:35:27.154720Z",
     "shell.execute_reply": "2022-02-25T17:35:27.154146Z",
     "shell.execute_reply.started": "2022-02-06T04:08:15.680071Z"
    },
    "papermill": {
     "duration": 0.105086,
     "end_time": "2022-02-25T17:35:27.154867",
     "exception": false,
     "start_time": "2022-02-25T17:35:27.049781",
     "status": "completed"
    },
    "tags": []
   },
   "outputs": [],
   "source": [
    "df_train=df.iloc[:1460,:]\n",
    "df_test=df.iloc[1460:,:]"
   ]
  },
  {
   "cell_type": "code",
   "execution_count": 53,
   "id": "aea75a16",
   "metadata": {
    "execution": {
     "iopub.execute_input": "2022-02-25T17:35:27.353222Z",
     "iopub.status.busy": "2022-02-25T17:35:27.352530Z",
     "iopub.status.idle": "2022-02-25T17:35:28.020190Z",
     "shell.execute_reply": "2022-02-25T17:35:28.019505Z",
     "shell.execute_reply.started": "2022-02-06T04:08:15.692044Z"
    },
    "papermill": {
     "duration": 0.768641,
     "end_time": "2022-02-25T17:35:28.020333",
     "exception": false,
     "start_time": "2022-02-25T17:35:27.251692",
     "status": "completed"
    },
    "tags": []
   },
   "outputs": [
    {
     "data": {
      "text/plain": [
       "<AxesSubplot:>"
      ]
     },
     "execution_count": 53,
     "metadata": {},
     "output_type": "execute_result"
    },
    {
     "data": {
      "image/png": "[encoded data removed]",
      "text/plain": [
       "<Figure size 432x288 with 1 Axes>"
      ]
     },
     "metadata": {
      "needs_background": "light"
     },
     "output_type": "display_data"
    }
   ],
   "source": [
    "sns.heatmap(df_train.isnull(),yticklabels=False,cbar=False)"
   ]
  },
  {
   "cell_type": "code",
   "execution_count": 54,
   "id": "d8a93f1d",
   "metadata": {
    "execution": {
     "iopub.execute_input": "2022-02-25T17:35:28.220927Z",
     "iopub.status.busy": "2022-02-25T17:35:28.220241Z",
     "iopub.status.idle": "2022-02-25T17:35:28.885398Z",
     "shell.execute_reply": "2022-02-25T17:35:28.884846Z",
     "shell.execute_reply.started": "2022-02-06T04:08:16.369367Z"
    },
    "papermill": {
     "duration": 0.766771,
     "end_time": "2022-02-25T17:35:28.885549",
     "exception": false,
     "start_time": "2022-02-25T17:35:28.118778",
     "status": "completed"
    },
    "tags": []
   },
   "outputs": [
    {
     "data": {
      "text/plain": [
       "<AxesSubplot:>"
      ]
     },
     "execution_count": 54,
     "metadata": {},
     "output_type": "execute_result"
    },
    {
     "data": {
      "image/png": "[encoded data removed]",
      "text/plain": [
       "<Figure size 432x288 with 1 Axes>"
      ]
     },
     "metadata": {
      "needs_background": "light"
     },
     "output_type": "display_data"
    }
   ],
   "source": [
    "sns.heatmap(df_test.isnull(),yticklabels=False,cbar=False)"
   ]
  },
  {
   "cell_type": "code",
   "execution_count": 55,
   "id": "a475f995",
   "metadata": {
    "execution": {
     "iopub.execute_input": "2022-02-25T17:35:29.095691Z",
     "iopub.status.busy": "2022-02-25T17:35:29.094960Z",
     "iopub.status.idle": "2022-02-25T17:35:29.098650Z",
     "shell.execute_reply": "2022-02-25T17:35:29.098052Z",
     "shell.execute_reply.started": "2022-02-06T04:08:17.043569Z"
    },
    "papermill": {
     "duration": 0.111916,
     "end_time": "2022-02-25T17:35:29.098829",
     "exception": false,
     "start_time": "2022-02-25T17:35:28.986913",
     "status": "completed"
    },
    "tags": []
   },
   "outputs": [],
   "source": [
    "X=df_train.drop(['SalePrice'],axis=1)\n",
    "y=df_train['SalePrice']"
   ]
  },
  {
   "cell_type": "markdown",
   "id": "0684c1c8",
   "metadata": {
    "papermill": {
     "duration": 0.107189,
     "end_time": "2022-02-25T17:35:29.307360",
     "exception": false,
     "start_time": "2022-02-25T17:35:29.200171",
     "status": "completed"
    },
    "tags": []
   },
   "source": [
    "<font size=\"4\"> Since there are no values for saleprice in test set, to select best model we need to divide trainset into two. This works as a validation set.</font>"
   ]
  },
  {
   "cell_type": "markdown",
   "id": "f988ea5b",
   "metadata": {
    "papermill": {
     "duration": 0.103809,
     "end_time": "2022-02-25T17:35:29.512494",
     "exception": false,
     "start_time": "2022-02-25T17:35:29.408685",
     "status": "completed"
    },
    "tags": []
   },
   "source": [
    "## <p style=\"background-color:#A7FC86;color:black;font-size:21px;text-align:center;border-radius:10px 10px;\">✨Model fitting</p>"
   ]
  },
  {
   "cell_type": "code",
   "execution_count": 56,
   "id": "4a123371",
   "metadata": {
    "execution": {
     "iopub.execute_input": "2022-02-25T17:35:29.725575Z",
     "iopub.status.busy": "2022-02-25T17:35:29.718400Z",
     "iopub.status.idle": "2022-02-25T17:35:29.728909Z",
     "shell.execute_reply": "2022-02-25T17:35:29.729394Z",
     "shell.execute_reply.started": "2022-02-06T04:08:17.054485Z"
    },
    "papermill": {
     "duration": 0.114501,
     "end_time": "2022-02-25T17:35:29.729577",
     "exception": false,
     "start_time": "2022-02-25T17:35:29.615076",
     "status": "completed"
    },
    "tags": []
   },
   "outputs": [],
   "source": [
    "from sklearn.model_selection import train_test_split\n",
    "x_train, x_test, y_train, y_test = train_test_split(X, y, test_size=0.2, random_state=1234)"
   ]
  },
  {
   "cell_type": "code",
   "execution_count": 57,
   "id": "3b1892ae",
   "metadata": {
    "execution": {
     "iopub.execute_input": "2022-02-25T17:35:29.934514Z",
     "iopub.status.busy": "2022-02-25T17:35:29.933827Z",
     "iopub.status.idle": "2022-02-25T17:35:29.939570Z",
     "shell.execute_reply": "2022-02-25T17:35:29.940132Z",
     "shell.execute_reply.started": "2022-02-06T04:08:17.068949Z"
    },
    "papermill": {
     "duration": 0.110873,
     "end_time": "2022-02-25T17:35:29.940312",
     "exception": false,
     "start_time": "2022-02-25T17:35:29.829439",
     "status": "completed"
    },
    "tags": []
   },
   "outputs": [],
   "source": [
    "from sklearn import metrics\n",
    "\n",
    "def model_scores(true, predicted):  \n",
    "    mae = metrics.mean_absolute_error(true, predicted)\n",
    "    mse = metrics.mean_squared_error(true, predicted)\n",
    "    rmse = np.sqrt(metrics.mean_squared_error(true, predicted))\n",
    "    r2_square = metrics.r2_score(true, predicted)\n",
    "    print('MAE:', mae)\n",
    "    print('MSE:', mse)\n",
    "    print('RMSE:', rmse)\n",
    "    print('R2 Square', r2_square)\n",
    "    print('__________________________________')"
   ]
  },
  {
   "cell_type": "code",
   "execution_count": 58,
   "id": "c5421d6f",
   "metadata": {
    "execution": {
     "iopub.execute_input": "2022-02-25T17:35:30.142765Z",
     "iopub.status.busy": "2022-02-25T17:35:30.142067Z",
     "iopub.status.idle": "2022-02-25T17:35:30.204592Z",
     "shell.execute_reply": "2022-02-25T17:35:30.203987Z",
     "shell.execute_reply.started": "2022-02-06T04:08:17.079815Z"
    },
    "papermill": {
     "duration": 0.164863,
     "end_time": "2022-02-25T17:35:30.204766",
     "exception": false,
     "start_time": "2022-02-25T17:35:30.039903",
     "status": "completed"
    },
    "tags": []
   },
   "outputs": [],
   "source": [
    "from sklearn.linear_model import LinearRegression\n",
    "from sklearn.tree import DecisionTreeRegressor\n",
    "from sklearn.ensemble import BaggingRegressor\n",
    "from sklearn.svm import SVR\n",
    "from sklearn.ensemble import GradientBoostingRegressor\n",
    "from sklearn.ensemble import RandomForestRegressor"
   ]
  },
  {
   "cell_type": "code",
   "execution_count": 59,
   "id": "a2cc5f66",
   "metadata": {
    "execution": {
     "iopub.execute_input": "2022-02-25T17:35:30.413464Z",
     "iopub.status.busy": "2022-02-25T17:35:30.412813Z",
     "iopub.status.idle": "2022-02-25T17:35:30.474313Z",
     "shell.execute_reply": "2022-02-25T17:35:30.475574Z",
     "shell.execute_reply.started": "2022-02-06T04:08:17.142112Z"
    },
    "papermill": {
     "duration": 0.169284,
     "end_time": "2022-02-25T17:35:30.475973",
     "exception": false,
     "start_time": "2022-02-25T17:35:30.306689",
     "status": "completed"
    },
    "tags": []
   },
   "outputs": [
    {
     "name": "stdout",
     "output_type": "stream",
     "text": [
      "Training set score: 0.87\n",
      "Test set score: 0.86\n",
      "\n",
      "_____________________________________\n",
      "Test set evaluation:\n",
      "_____________________________________\n",
      "MAE: 19067.24681602365\n",
      "MSE: 775230282.4383783\n",
      "RMSE: 27842.95750164444\n",
      "R2 Square 0.8588591134837213\n",
      "__________________________________\n",
      "Train set evaluation:\n",
      "_____________________________________\n",
      "MAE: 17715.944392315512\n",
      "MSE: 850212591.918737\n",
      "RMSE: 29158.405167613968\n",
      "R2 Square 0.8693687128203251\n",
      "__________________________________\n"
     ]
    }
   ],
   "source": [
    "lr= LinearRegression()\n",
    "lr.fit(x_train, y_train)\n",
    "print(\"Training set score: {:.2f}\".format(lr.score(x_train, y_train))) \n",
    "print(\"Test set score: {:.2f}\".format(lr.score(x_test, y_test)))\n",
    "print(\"\\n_____________________________________\")\n",
    "test_pred = lr.predict(x_test)\n",
    "train_pred = lr.predict(x_train)\n",
    "\n",
    "print('Test set evaluation:\\n_____________________________________')\n",
    "model_scores(y_test, test_pred)\n",
    "print('Train set evaluation:\\n_____________________________________')\n",
    "model_scores(y_train, train_pred)"
   ]
  },
  {
   "cell_type": "code",
   "execution_count": 60,
   "id": "abb660e3",
   "metadata": {
    "execution": {
     "iopub.execute_input": "2022-02-25T17:35:30.740752Z",
     "iopub.status.busy": "2022-02-25T17:35:30.739662Z",
     "iopub.status.idle": "2022-02-25T17:35:30.985007Z",
     "shell.execute_reply": "2022-02-25T17:35:30.986655Z",
     "shell.execute_reply.started": "2022-02-06T04:08:17.207886Z"
    },
    "papermill": {
     "duration": 0.359084,
     "end_time": "2022-02-25T17:35:30.987033",
     "exception": false,
     "start_time": "2022-02-25T17:35:30.627949",
     "status": "completed"
    },
    "tags": []
   },
   "outputs": [
    {
     "name": "stdout",
     "output_type": "stream",
     "text": [
      "Training set score: 0.87\n",
      "Test set score: 0.86\n",
      "\n",
      "_____________________________________\n",
      "Test set evaluation:\n",
      "_____________________________________\n",
      "MAE: 19064.63237068787\n",
      "MSE: 774725111.1102121\n",
      "RMSE: 27833.88422606899\n",
      "R2 Square 0.8589510865796067\n",
      "__________________________________\n",
      "Train set evaluation:\n",
      "_____________________________________\n",
      "MAE: 17715.363779760348\n",
      "MSE: 850212958.0441388\n",
      "RMSE: 29158.411445827063\n",
      "R2 Square 0.8693686565668268\n",
      "__________________________________\n"
     ]
    }
   ],
   "source": [
    "from sklearn import linear_model\n",
    "lasso = linear_model.Lasso(alpha=0.1)\n",
    "lasso.fit(x_train, y_train)\n",
    "print(\"Training set score: {:.2f}\".format(lasso.score(x_train, y_train))) \n",
    "print(\"Test set score: {:.2f}\".format(lasso.score(x_test, y_test)))\n",
    "print(\"\\n_____________________________________\")\n",
    "test_pred = lasso.predict(x_test)\n",
    "train_pred = lasso.predict(x_train)\n",
    "\n",
    "print('Test set evaluation:\\n_____________________________________')\n",
    "model_scores(y_test, test_pred)\n",
    "print('Train set evaluation:\\n_____________________________________')\n",
    "model_scores(y_train, train_pred)"
   ]
  },
  {
   "cell_type": "code",
   "execution_count": 61,
   "id": "7c18ef9d",
   "metadata": {
    "execution": {
     "iopub.execute_input": "2022-02-25T17:35:31.246607Z",
     "iopub.status.busy": "2022-02-25T17:35:31.245834Z",
     "iopub.status.idle": "2022-02-25T17:35:31.456180Z",
     "shell.execute_reply": "2022-02-25T17:35:31.457733Z",
     "shell.execute_reply.started": "2022-02-06T04:08:17.466606Z"
    },
    "papermill": {
     "duration": 0.321755,
     "end_time": "2022-02-25T17:35:31.458087",
     "exception": false,
     "start_time": "2022-02-25T17:35:31.136332",
     "status": "completed"
    },
    "tags": []
   },
   "outputs": [
    {
     "name": "stdout",
     "output_type": "stream",
     "text": [
      "Training set score: 0.82\n",
      "Test set score: 0.84\n",
      "\n",
      "_____________________________________\n",
      "Test set evaluation:\n",
      "_____________________________________\n",
      "MAE: 19639.109384136307\n",
      "MSE: 854421569.5440036\n",
      "RMSE: 29230.490408886464\n",
      "R2 Square 0.844441296327125\n",
      "__________________________________\n",
      "Train set evaluation:\n",
      "_____________________________________\n",
      "MAE: 18982.97638091549\n",
      "MSE: 1166192791.3587909\n",
      "RMSE: 34149.565024444906\n",
      "R2 Square 0.8208197962687693\n",
      "__________________________________\n"
     ]
    }
   ],
   "source": [
    "from sklearn.linear_model import ElasticNet\n",
    "enet = ElasticNet(random_state=2)\n",
    "enet.fit(x_train, y_train)\n",
    "print(\"Training set score: {:.2f}\".format(enet.score(x_train, y_train))) \n",
    "print(\"Test set score: {:.2f}\".format(enet.score(x_test, y_test)))\n",
    "print(\"\\n_____________________________________\")\n",
    "test_pred = enet.predict(x_test)\n",
    "train_pred = enet.predict(x_train)\n",
    "\n",
    "print('Test set evaluation:\\n_____________________________________')\n",
    "model_scores(y_test, test_pred)\n",
    "print('Train set evaluation:\\n_____________________________________')\n",
    "model_scores(y_train, train_pred)"
   ]
  },
  {
   "cell_type": "code",
   "execution_count": 62,
   "id": "04b0d2bf",
   "metadata": {
    "execution": {
     "iopub.execute_input": "2022-02-25T17:35:31.723782Z",
     "iopub.status.busy": "2022-02-25T17:35:31.722651Z",
     "iopub.status.idle": "2022-02-25T17:35:31.788651Z",
     "shell.execute_reply": "2022-02-25T17:35:31.787728Z",
     "shell.execute_reply.started": "2022-02-06T04:08:17.713204Z"
    },
    "papermill": {
     "duration": 0.178032,
     "end_time": "2022-02-25T17:35:31.788891",
     "exception": false,
     "start_time": "2022-02-25T17:35:31.610859",
     "status": "completed"
    },
    "tags": []
   },
   "outputs": [
    {
     "name": "stdout",
     "output_type": "stream",
     "text": [
      "Training set score: 1.00\n",
      "Test set score: 0.70\n",
      "\n",
      "_____________________________________\n",
      "Test set evaluation:\n",
      "_____________________________________\n",
      "MAE: 26860.16780821918\n",
      "MSE: 1634547336.1541095\n",
      "RMSE: 40429.535443214154\n",
      "R2 Square 0.7024091224197619\n",
      "__________________________________\n",
      "Train set evaluation:\n",
      "_____________________________________\n",
      "MAE: 0.0\n",
      "MSE: 0.0\n",
      "RMSE: 0.0\n",
      "R2 Square 1.0\n",
      "__________________________________\n"
     ]
    }
   ],
   "source": [
    "dt= DecisionTreeRegressor()\n",
    "dt.fit(x_train, y_train)\n",
    "print(\"Training set score: {:.2f}\".format(dt.score(x_train, y_train))) \n",
    "print(\"Test set score: {:.2f}\".format(dt.score(x_test, y_test)))\n",
    "print(\"\\n_____________________________________\")\n",
    "test_pred = dt.predict(x_test)\n",
    "train_pred = dt.predict(x_train)\n",
    "\n",
    "print('Test set evaluation:\\n_____________________________________')\n",
    "model_scores(y_test, test_pred)\n",
    "print('Train set evaluation:\\n_____________________________________')\n",
    "model_scores(y_train, train_pred)"
   ]
  },
  {
   "cell_type": "code",
   "execution_count": 63,
   "id": "47f445bc",
   "metadata": {
    "execution": {
     "iopub.execute_input": "2022-02-25T17:35:32.032090Z",
     "iopub.status.busy": "2022-02-25T17:35:32.031308Z",
     "iopub.status.idle": "2022-02-25T17:35:32.310143Z",
     "shell.execute_reply": "2022-02-25T17:35:32.309520Z",
     "shell.execute_reply.started": "2022-02-06T04:08:17.830121Z"
    },
    "papermill": {
     "duration": 0.41563,
     "end_time": "2022-02-25T17:35:32.310291",
     "exception": false,
     "start_time": "2022-02-25T17:35:31.894661",
     "status": "completed"
    },
    "tags": []
   },
   "outputs": [
    {
     "name": "stdout",
     "output_type": "stream",
     "text": [
      "Training set score: 0.98\n",
      "Test set score: 0.86\n",
      "\n",
      "_____________________________________\n",
      "Test set evaluation:\n",
      "_____________________________________\n",
      "MAE: 18427.5948630137\n",
      "MSE: 794220460.0802397\n",
      "RMSE: 28181.91725344888\n",
      "R2 Square 0.8554017014499145\n",
      "__________________________________\n",
      "Train set evaluation:\n",
      "_____________________________________\n",
      "MAE: 7625.26301369863\n",
      "MSE: 155394096.74503425\n",
      "RMSE: 12465.716856444087\n",
      "R2 Square 0.9761244057417265\n",
      "__________________________________\n"
     ]
    }
   ],
   "source": [
    "bg= BaggingRegressor(random_state=5)\n",
    "bg.fit(x_train, y_train)\n",
    "print(\"Training set score: {:.2f}\".format(bg.score(x_train, y_train))) \n",
    "print(\"Test set score: {:.2f}\".format(bg.score(x_test, y_test)))\n",
    "print(\"\\n_____________________________________\")\n",
    "test_pred = bg.predict(x_test)\n",
    "train_pred = bg.predict(x_train)\n",
    "\n",
    "print('Test set evaluation:\\n_____________________________________')\n",
    "model_scores(y_test, test_pred)\n",
    "print('Train set evaluation:\\n_____________________________________')\n",
    "model_scores(y_train, train_pred)"
   ]
  },
  {
   "cell_type": "code",
   "execution_count": 64,
   "id": "7750fcbc",
   "metadata": {
    "execution": {
     "iopub.execute_input": "2022-02-25T17:35:32.526166Z",
     "iopub.status.busy": "2022-02-25T17:35:32.524917Z",
     "iopub.status.idle": "2022-02-25T17:35:33.272972Z",
     "shell.execute_reply": "2022-02-25T17:35:33.271569Z",
     "shell.execute_reply.started": "2022-02-06T04:08:18.122092Z"
    },
    "papermill": {
     "duration": 0.86002,
     "end_time": "2022-02-25T17:35:33.273132",
     "exception": false,
     "start_time": "2022-02-25T17:35:32.413112",
     "status": "completed"
    },
    "tags": []
   },
   "outputs": [
    {
     "name": "stdout",
     "output_type": "stream",
     "text": [
      "Training set score: 0.97\n",
      "Test set score: 0.88\n",
      "\n",
      "_____________________________________\n",
      "Test set evaluation:\n",
      "_____________________________________\n",
      "MAE: 16383.206189851218\n",
      "MSE: 640000430.6039678\n",
      "RMSE: 25298.229791903777\n",
      "R2 Square 0.8834794896529028\n",
      "__________________________________\n",
      "Train set evaluation:\n",
      "_____________________________________\n",
      "MAE: 10117.062053668113\n",
      "MSE: 189115547.76989967\n",
      "RMSE: 13751.928874521554\n",
      "R2 Square 0.9709432585853391\n",
      "__________________________________\n"
     ]
    }
   ],
   "source": [
    "gbm= GradientBoostingRegressor(random_state=123)\n",
    "gbm.fit(x_train, y_train)\n",
    "print(\"Training set score: {:.2f}\".format(gbm.score(x_train, y_train))) \n",
    "print(\"Test set score: {:.2f}\".format(gbm.score(x_test, y_test)))\n",
    "print(\"\\n_____________________________________\")\n",
    "test_pred = gbm.predict(x_test)\n",
    "train_pred =gbm.predict(x_train)\n",
    "\n",
    "print('Test set evaluation:\\n_____________________________________')\n",
    "model_scores(y_test, test_pred)\n",
    "print('Train set evaluation:\\n_____________________________________')\n",
    "model_scores(y_train, train_pred)"
   ]
  },
  {
   "cell_type": "code",
   "execution_count": 65,
   "id": "49860362",
   "metadata": {
    "execution": {
     "iopub.execute_input": "2022-02-25T17:35:33.493814Z",
     "iopub.status.busy": "2022-02-25T17:35:33.487137Z",
     "iopub.status.idle": "2022-02-25T17:35:35.763470Z",
     "shell.execute_reply": "2022-02-25T17:35:35.762824Z",
     "shell.execute_reply.started": "2022-02-06T04:08:18.865051Z"
    },
    "papermill": {
     "duration": 2.388223,
     "end_time": "2022-02-25T17:35:35.763623",
     "exception": false,
     "start_time": "2022-02-25T17:35:33.375400",
     "status": "completed"
    },
    "tags": []
   },
   "outputs": [
    {
     "name": "stdout",
     "output_type": "stream",
     "text": [
      "Training set score: 0.98\n",
      "Test set score: 0.87\n",
      "\n",
      "_____________________________________\n",
      "Test set evaluation:\n",
      "_____________________________________\n",
      "MAE: 17550.177842465753\n",
      "MSE: 723782379.9342831\n",
      "RMSE: 26903.203897199364\n",
      "R2 Square 0.8682258819566857\n",
      "__________________________________\n",
      "Train set evaluation:\n",
      "_____________________________________\n",
      "MAE: 6483.778030821918\n",
      "MSE: 119365893.09591626\n",
      "RMSE: 10925.469925633233\n",
      "R2 Square 0.9816599749184126\n",
      "__________________________________\n"
     ]
    }
   ],
   "source": [
    "rf= RandomForestRegressor(random_state=5)\n",
    "rf.fit(x_train, y_train)\n",
    "print(\"Training set score: {:.2f}\".format(rf.score(x_train, y_train))) \n",
    "print(\"Test set score: {:.2f}\".format(rf.score(x_test, y_test)))\n",
    "print(\"\\n_____________________________________\")\n",
    "test_pred = rf.predict(x_test)\n",
    "train_pred =rf.predict(x_train)\n",
    "\n",
    "print('Test set evaluation:\\n_____________________________________')\n",
    "model_scores(y_test, test_pred)\n",
    "print('Train set evaluation:\\n_____________________________________')\n",
    "model_scores(y_train, train_pred)"
   ]
  },
  {
   "cell_type": "code",
   "execution_count": 66,
   "id": "d24bf446",
   "metadata": {
    "execution": {
     "iopub.execute_input": "2022-02-25T17:35:35.980728Z",
     "iopub.status.busy": "2022-02-25T17:35:35.979774Z",
     "iopub.status.idle": "2022-02-25T17:35:36.449765Z",
     "shell.execute_reply": "2022-02-25T17:35:36.449180Z",
     "shell.execute_reply.started": "2022-02-06T04:08:21.132391Z"
    },
    "papermill": {
     "duration": 0.58208,
     "end_time": "2022-02-25T17:35:36.449913",
     "exception": false,
     "start_time": "2022-02-25T17:35:35.867833",
     "status": "completed"
    },
    "tags": []
   },
   "outputs": [
    {
     "name": "stdout",
     "output_type": "stream",
     "text": [
      "Training set score: 0.88\n",
      "Test set score: 0.79\n",
      "\n",
      "_____________________________________\n",
      "Test set evaluation:\n",
      "_____________________________________\n",
      "MAE: 23746.885853871045\n",
      "MSE: 1155091660.6726065\n",
      "RMSE: 33986.639443649125\n",
      "R2 Square 0.7897003449322153\n",
      "__________________________________\n",
      "Train set evaluation:\n",
      "_____________________________________\n",
      "MAE: 21683.73315991253\n",
      "MSE: 773639610.7111405\n",
      "RMSE: 27814.377769620165\n",
      "R2 Square 0.8811338021561103\n",
      "__________________________________\n"
     ]
    }
   ],
   "source": [
    "from sklearn.ensemble import AdaBoostRegressor\n",
    "ada= AdaBoostRegressor(random_state=5)\n",
    "ada.fit(x_train, y_train)\n",
    "print(\"Training set score: {:.2f}\".format(ada.score(x_train, y_train))) \n",
    "print(\"Test set score: {:.2f}\".format(ada.score(x_test, y_test)))\n",
    "print(\"\\n_____________________________________\")\n",
    "test_pred = ada.predict(x_test)\n",
    "train_pred =ada.predict(x_train)\n",
    "\n",
    "print('Test set evaluation:\\n_____________________________________')\n",
    "model_scores(y_test, test_pred)\n",
    "print('Train set evaluation:\\n_____________________________________')\n",
    "model_scores(y_train, train_pred)"
   ]
  },
  {
   "cell_type": "code",
   "execution_count": 67,
   "id": "9ab5cb8f",
   "metadata": {
    "execution": {
     "iopub.execute_input": "2022-02-25T17:35:36.669452Z",
     "iopub.status.busy": "2022-02-25T17:35:36.668675Z",
     "iopub.status.idle": "2022-02-25T17:35:39.089048Z",
     "shell.execute_reply": "2022-02-25T17:35:39.090029Z",
     "shell.execute_reply.started": "2022-02-06T04:08:21.607498Z"
    },
    "papermill": {
     "duration": 2.53708,
     "end_time": "2022-02-25T17:35:39.090477",
     "exception": false,
     "start_time": "2022-02-25T17:35:36.553397",
     "status": "completed"
    },
    "tags": []
   },
   "outputs": [
    {
     "name": "stdout",
     "output_type": "stream",
     "text": [
      "Training set score: 0.95\n",
      "Test set score: 0.89\n",
      "\n",
      "_____________________________________\n",
      "Test set evaluation:\n",
      "_____________________________________\n",
      "MAE: 15820.518047299312\n",
      "MSE: 595981337.583106\n",
      "RMSE: 24412.72900728442\n",
      "R2 Square 0.8914937454854603\n",
      "__________________________________\n",
      "Train set evaluation:\n",
      "_____________________________________\n",
      "MAE: 10931.182619256657\n",
      "MSE: 353499191.02091074\n",
      "RMSE: 18801.574163375542\n",
      "R2 Square 0.9456864615050902\n",
      "__________________________________\n"
     ]
    }
   ],
   "source": [
    "from sklearn.ensemble import VotingRegressor\n",
    "m1 = LinearRegression()\n",
    "m2 = RandomForestRegressor(random_state=5)\n",
    "vr = VotingRegressor([('lr', m1), ('rf', m2)])\n",
    "vr.fit(x_train, y_train)\n",
    "print(\"Training set score: {:.2f}\".format(vr.score(x_train, y_train))) \n",
    "print(\"Test set score: {:.2f}\".format(vr.score(x_test, y_test)))\n",
    "print(\"\\n_____________________________________\")\n",
    "test_pred = vr.predict(x_test)\n",
    "train_pred =vr.predict(x_train)\n",
    "\n",
    "print('Test set evaluation:\\n_____________________________________')\n",
    "model_scores(y_test, test_pred)\n",
    "print('Train set evaluation:\\n_____________________________________')\n",
    "model_scores(y_train, train_pred)"
   ]
  },
  {
   "cell_type": "code",
   "execution_count": 68,
   "id": "7cbe96c1",
   "metadata": {
    "execution": {
     "iopub.execute_input": "2022-02-25T17:35:39.332659Z",
     "iopub.status.busy": "2022-02-25T17:35:39.331962Z",
     "iopub.status.idle": "2022-02-25T17:35:54.405763Z",
     "shell.execute_reply": "2022-02-25T17:35:54.406650Z",
     "shell.execute_reply.started": "2022-02-06T04:08:24.089097Z"
    },
    "papermill": {
     "duration": 15.186909,
     "end_time": "2022-02-25T17:35:54.406957",
     "exception": false,
     "start_time": "2022-02-25T17:35:39.220048",
     "status": "completed"
    },
    "tags": []
   },
   "outputs": [
    {
     "name": "stdout",
     "output_type": "stream",
     "text": [
      "Training set score: 0.97\n",
      "Test set score: 0.89\n",
      "\n",
      "_____________________________________\n",
      "Test set evaluation:\n",
      "_____________________________________\n",
      "MAE: 16159.07590752693\n",
      "MSE: 623216709.4984678\n",
      "RMSE: 24964.308712609443\n",
      "R2 Square 0.8865351872043727\n",
      "__________________________________\n",
      "Train set evaluation:\n",
      "_____________________________________\n",
      "MAE: 9573.617402101892\n",
      "MSE: 169501358.873957\n",
      "RMSE: 13019.26875342686\n",
      "R2 Square 0.9739568892546755\n",
      "__________________________________\n"
     ]
    }
   ],
   "source": [
    "from sklearn.ensemble import StackingRegressor\n",
    "from sklearn.preprocessing import StandardScaler\n",
    "from sklearn.pipeline import make_pipeline\n",
    "estimators = [ ('lr',LinearRegression()),('rf', make_pipeline(RandomForestRegressor(random_state=5))),('gbm',GradientBoostingRegressor(random_state=123))]\n",
    "sr = StackingRegressor(estimators=estimators,final_estimator=LinearRegression())\n",
    "sr.fit(x_train, y_train)\n",
    "print(\"Training set score: {:.2f}\".format(sr.score(x_train, y_train))) \n",
    "print(\"Test set score: {:.2f}\".format(sr.score(x_test, y_test)))\n",
    "print(\"\\n_____________________________________\")\n",
    "test_pred = sr.predict(x_test)\n",
    "train_pred =sr.predict(x_train)\n",
    "\n",
    "print('Test set evaluation:\\n_____________________________________')\n",
    "model_scores(y_test, test_pred)\n",
    "print('Train set evaluation:\\n_____________________________________')\n",
    "model_scores(y_train, train_pred)"
   ]
  },
  {
   "cell_type": "markdown",
   "id": "88d3a15e",
   "metadata": {
    "papermill": {
     "duration": 0.104936,
     "end_time": "2022-02-25T17:35:54.635770",
     "exception": false,
     "start_time": "2022-02-25T17:35:54.530834",
     "status": "completed"
    },
    "tags": []
   },
   "source": [
    "## <p style=\"background-color:#A7FC86;color:black;font-size:21px;text-align:center;border-radius:10px 10px;\">💎Results </p>"
   ]
  },
  {
   "cell_type": "markdown",
   "id": "4780b496",
   "metadata": {
    "papermill": {
     "duration": 0.102715,
     "end_time": "2022-02-25T17:35:54.841907",
     "exception": false,
     "start_time": "2022-02-25T17:35:54.739192",
     "status": "completed"
    },
    "tags": []
   },
   "source": [
    "<font size=\"4\">If there is multicollinearity it is better to use regularized regression methods and other machine learning models. Since we want the predictions to be more accurate and do not make any inferences, we just ignore correlation.</font>"
   ]
  },
  {
   "cell_type": "markdown",
   "id": "9993283d",
   "metadata": {
    "papermill": {
     "duration": 0.103613,
     "end_time": "2022-02-25T17:35:55.049967",
     "exception": false,
     "start_time": "2022-02-25T17:35:54.946354",
     "status": "completed"
    },
    "tags": []
   },
   "source": [
    "<font size=\"4\">From above models <span style=\"color:blue;\">voting regressor</span> has the highest R square value of   <span style=\"color:blue;\">89.17%</span> and the smallest MAE.</font>"
   ]
  },
  {
   "cell_type": "markdown",
   "id": "5aa54351",
   "metadata": {
    "papermill": {
     "duration": 0.104332,
     "end_time": "2022-02-25T17:35:55.258189",
     "exception": false,
     "start_time": "2022-02-25T17:35:55.153857",
     "status": "completed"
    },
    "tags": []
   },
   "source": [
    "<font size=\"4\"><b>Highly appreciate your questions or feedback  related to this notebook. THANK YOU 😊 </b></font>"
   ]
  },
  {
   "cell_type": "markdown",
   "id": "93de2396",
   "metadata": {
    "papermill": {
     "duration": 0.104138,
     "end_time": "2022-02-25T17:35:55.465938",
     "exception": false,
     "start_time": "2022-02-25T17:35:55.361800",
     "status": "completed"
    },
    "tags": []
   },
   "source": [
    "<center><img src=\"https://media.giphy.com/media/5pUD7c0pvyXgfYUoQM/giphy.gif\"></center>\n"
   ]
  }
 ],
 "metadata": {
  "kernelspec": {
   "display_name": "Python 3",
   "language": "python",
   "name": "python3"
  },
  "language_info": {
   "codemirror_mode": {
    "name": "ipython",
    "version": 3
   },
   "file_extension": ".py",
   "mimetype": "text/x-python",
   "name": "python",
   "nbconvert_exporter": "python",
   "pygments_lexer": "ipython3",
   "version": "3.7.10"
  },
  "papermill": {
   "default_parameters": {},
   "duration": 65.976545,
   "end_time": "2022-02-25T17:35:56.484503",
   "environment_variables": {},
   "exception": null,
   "input_path": "__notebook__.ipynb",
   "output_path": "__notebook__.ipynb",
   "parameters": {},
   "start_time": "2022-02-25T17:34:50.507958",
   "version": "2.3.3"
  }
 },
 "nbformat": 4,
 "nbformat_minor": 5
}
